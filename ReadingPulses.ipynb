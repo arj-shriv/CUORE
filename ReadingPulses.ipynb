{
 "cells": [
  {
   "cell_type": "code",
   "execution_count": 2,
   "metadata": {},
   "outputs": [],
   "source": [
    "import numpy as np\n",
    "import matplotlib.pyplot as plt\n",
    "import pandas as pd\n",
    "import uproot as up"
   ]
  },
  {
   "cell_type": "code",
   "execution_count": 3,
   "metadata": {},
   "outputs": [],
   "source": [
    "tower2p1_events=pd.read_csv(\"pulse_out/Tower2p1_event_info.csv\") #contains reconstruction information\n",
    "pulses_tower2p1=up.concatenate([\"pulse_out/Run352044_tower2p1.root:tree\"],library='np')['samples'] #pulses\n",
    "event_nums_tower2p1=up.concatenate([\"pulse_out/Run352044_tower2p1.root:tree\"],library='np')['event_number'] #event numbers to connect pulses to reconstruction info\n",
    "\n",
    "ADC2mV=8.0108642578125e-02 ##this number should be checked with up-to-date front end board readings, but is fine for now"
   ]
  },
  {
   "cell_type": "code",
   "execution_count": 4,
   "metadata": {},
   "outputs": [
    {
     "data": {
      "text/html": [
       "<div>\n",
       "<style scoped>\n",
       "    .dataframe tbody tr th:only-of-type {\n",
       "        vertical-align: middle;\n",
       "    }\n",
       "\n",
       "    .dataframe tbody tr th {\n",
       "        vertical-align: top;\n",
       "    }\n",
       "\n",
       "    .dataframe thead th {\n",
       "        text-align: right;\n",
       "    }\n",
       "</style>\n",
       "<table border=\"1\" class=\"dataframe\">\n",
       "  <thead>\n",
       "    <tr style=\"text-align: right;\">\n",
       "      <th></th>\n",
       "      <th>Channel</th>\n",
       "      <th>Time</th>\n",
       "      <th>CoincTime</th>\n",
       "      <th>NumPulses</th>\n",
       "      <th>OFdelay</th>\n",
       "      <th>OFChi2</th>\n",
       "      <th>Energy</th>\n",
       "      <th>Baseline</th>\n",
       "      <th>MaxToBaseline</th>\n",
       "      <th>Run</th>\n",
       "      <th>PCANorm</th>\n",
       "      <th>event_number</th>\n",
       "      <th>BaselineSlope</th>\n",
       "      <th>SingleTrigger</th>\n",
       "    </tr>\n",
       "  </thead>\n",
       "  <tbody>\n",
       "    <tr>\n",
       "      <th>0</th>\n",
       "      <td>54</td>\n",
       "      <td>1018.808</td>\n",
       "      <td>1015.720415</td>\n",
       "      <td>1</td>\n",
       "      <td>3.119665</td>\n",
       "      <td>3.511851</td>\n",
       "      <td>2617.897933</td>\n",
       "      <td>-5949.946025</td>\n",
       "      <td>1135.256388</td>\n",
       "      <td>352044</td>\n",
       "      <td>4.796232</td>\n",
       "      <td>81146</td>\n",
       "      <td>-0.004776</td>\n",
       "      <td>False</td>\n",
       "    </tr>\n",
       "    <tr>\n",
       "      <th>1</th>\n",
       "      <td>53</td>\n",
       "      <td>1029.120</td>\n",
       "      <td>1026.040443</td>\n",
       "      <td>1</td>\n",
       "      <td>3.119646</td>\n",
       "      <td>959.445237</td>\n",
       "      <td>1291.883245</td>\n",
       "      <td>-3041.182805</td>\n",
       "      <td>616.774846</td>\n",
       "      <td>352044</td>\n",
       "      <td>16.963644</td>\n",
       "      <td>81911</td>\n",
       "      <td>-0.000647</td>\n",
       "      <td>True</td>\n",
       "    </tr>\n",
       "    <tr>\n",
       "      <th>2</th>\n",
       "      <td>58</td>\n",
       "      <td>1056.312</td>\n",
       "      <td>1053.235369</td>\n",
       "      <td>1</td>\n",
       "      <td>3.086841</td>\n",
       "      <td>10.635230</td>\n",
       "      <td>2600.413432</td>\n",
       "      <td>-3019.474859</td>\n",
       "      <td>1154.465551</td>\n",
       "      <td>352044</td>\n",
       "      <td>14.263034</td>\n",
       "      <td>84090</td>\n",
       "      <td>-0.004409</td>\n",
       "      <td>True</td>\n",
       "    </tr>\n",
       "    <tr>\n",
       "      <th>3</th>\n",
       "      <td>55</td>\n",
       "      <td>1060.072</td>\n",
       "      <td>1057.011309</td>\n",
       "      <td>1</td>\n",
       "      <td>3.070154</td>\n",
       "      <td>0.177860</td>\n",
       "      <td>737.921289</td>\n",
       "      <td>-3309.880651</td>\n",
       "      <td>198.861516</td>\n",
       "      <td>352044</td>\n",
       "      <td>10.408411</td>\n",
       "      <td>84367</td>\n",
       "      <td>-0.002333</td>\n",
       "      <td>True</td>\n",
       "    </tr>\n",
       "    <tr>\n",
       "      <th>4</th>\n",
       "      <td>56</td>\n",
       "      <td>1067.584</td>\n",
       "      <td>1064.502041</td>\n",
       "      <td>1</td>\n",
       "      <td>3.122515</td>\n",
       "      <td>1.473148</td>\n",
       "      <td>1424.047190</td>\n",
       "      <td>-2917.889409</td>\n",
       "      <td>584.885412</td>\n",
       "      <td>352044</td>\n",
       "      <td>1.821491</td>\n",
       "      <td>85011</td>\n",
       "      <td>-0.000906</td>\n",
       "      <td>True</td>\n",
       "    </tr>\n",
       "    <tr>\n",
       "      <th>...</th>\n",
       "      <td>...</td>\n",
       "      <td>...</td>\n",
       "      <td>...</td>\n",
       "      <td>...</td>\n",
       "      <td>...</td>\n",
       "      <td>...</td>\n",
       "      <td>...</td>\n",
       "      <td>...</td>\n",
       "      <td>...</td>\n",
       "      <td>...</td>\n",
       "      <td>...</td>\n",
       "      <td>...</td>\n",
       "      <td>...</td>\n",
       "      <td>...</td>\n",
       "    </tr>\n",
       "    <tr>\n",
       "      <th>24858</th>\n",
       "      <td>59</td>\n",
       "      <td>128172.264</td>\n",
       "      <td>128169.191868</td>\n",
       "      <td>1</td>\n",
       "      <td>3.090579</td>\n",
       "      <td>8.643130</td>\n",
       "      <td>2336.963051</td>\n",
       "      <td>-4723.471242</td>\n",
       "      <td>1099.356252</td>\n",
       "      <td>352044</td>\n",
       "      <td>11.374310</td>\n",
       "      <td>10152655</td>\n",
       "      <td>-0.002778</td>\n",
       "      <td>True</td>\n",
       "    </tr>\n",
       "    <tr>\n",
       "      <th>24859</th>\n",
       "      <td>64</td>\n",
       "      <td>128188.112</td>\n",
       "      <td>128185.029504</td>\n",
       "      <td>1</td>\n",
       "      <td>3.123739</td>\n",
       "      <td>0.686072</td>\n",
       "      <td>825.788777</td>\n",
       "      <td>-6597.101735</td>\n",
       "      <td>357.279348</td>\n",
       "      <td>352044</td>\n",
       "      <td>-0.920750</td>\n",
       "      <td>10153787</td>\n",
       "      <td>-0.002088</td>\n",
       "      <td>True</td>\n",
       "    </tr>\n",
       "    <tr>\n",
       "      <th>24860</th>\n",
       "      <td>62</td>\n",
       "      <td>128193.784</td>\n",
       "      <td>128190.698521</td>\n",
       "      <td>1</td>\n",
       "      <td>3.115107</td>\n",
       "      <td>1.280897</td>\n",
       "      <td>1114.787370</td>\n",
       "      <td>-3414.805634</td>\n",
       "      <td>669.562561</td>\n",
       "      <td>352044</td>\n",
       "      <td>-0.708036</td>\n",
       "      <td>10154324</td>\n",
       "      <td>-0.001870</td>\n",
       "      <td>True</td>\n",
       "    </tr>\n",
       "    <tr>\n",
       "      <th>24861</th>\n",
       "      <td>61</td>\n",
       "      <td>128194.640</td>\n",
       "      <td>128191.566482</td>\n",
       "      <td>1</td>\n",
       "      <td>3.092249</td>\n",
       "      <td>2.601401</td>\n",
       "      <td>662.462041</td>\n",
       "      <td>-4403.333359</td>\n",
       "      <td>308.580093</td>\n",
       "      <td>352044</td>\n",
       "      <td>-0.435548</td>\n",
       "      <td>10154390</td>\n",
       "      <td>-0.000717</td>\n",
       "      <td>True</td>\n",
       "    </tr>\n",
       "    <tr>\n",
       "      <th>24862</th>\n",
       "      <td>53</td>\n",
       "      <td>128197.912</td>\n",
       "      <td>128194.827396</td>\n",
       "      <td>1</td>\n",
       "      <td>3.114600</td>\n",
       "      <td>1.844734</td>\n",
       "      <td>617.808418</td>\n",
       "      <td>-3150.776449</td>\n",
       "      <td>271.992269</td>\n",
       "      <td>352044</td>\n",
       "      <td>18.848382</td>\n",
       "      <td>10154613</td>\n",
       "      <td>-0.011195</td>\n",
       "      <td>True</td>\n",
       "    </tr>\n",
       "  </tbody>\n",
       "</table>\n",
       "<p>24863 rows × 14 columns</p>\n",
       "</div>"
      ],
      "text/plain": [
       "       Channel        Time      CoincTime  NumPulses   OFdelay      OFChi2  \\\n",
       "0           54    1018.808    1015.720415          1  3.119665    3.511851   \n",
       "1           53    1029.120    1026.040443          1  3.119646  959.445237   \n",
       "2           58    1056.312    1053.235369          1  3.086841   10.635230   \n",
       "3           55    1060.072    1057.011309          1  3.070154    0.177860   \n",
       "4           56    1067.584    1064.502041          1  3.122515    1.473148   \n",
       "...        ...         ...            ...        ...       ...         ...   \n",
       "24858       59  128172.264  128169.191868          1  3.090579    8.643130   \n",
       "24859       64  128188.112  128185.029504          1  3.123739    0.686072   \n",
       "24860       62  128193.784  128190.698521          1  3.115107    1.280897   \n",
       "24861       61  128194.640  128191.566482          1  3.092249    2.601401   \n",
       "24862       53  128197.912  128194.827396          1  3.114600    1.844734   \n",
       "\n",
       "            Energy     Baseline  MaxToBaseline     Run    PCANorm  \\\n",
       "0      2617.897933 -5949.946025    1135.256388  352044   4.796232   \n",
       "1      1291.883245 -3041.182805     616.774846  352044  16.963644   \n",
       "2      2600.413432 -3019.474859    1154.465551  352044  14.263034   \n",
       "3       737.921289 -3309.880651     198.861516  352044  10.408411   \n",
       "4      1424.047190 -2917.889409     584.885412  352044   1.821491   \n",
       "...            ...          ...            ...     ...        ...   \n",
       "24858  2336.963051 -4723.471242    1099.356252  352044  11.374310   \n",
       "24859   825.788777 -6597.101735     357.279348  352044  -0.920750   \n",
       "24860  1114.787370 -3414.805634     669.562561  352044  -0.708036   \n",
       "24861   662.462041 -4403.333359     308.580093  352044  -0.435548   \n",
       "24862   617.808418 -3150.776449     271.992269  352044  18.848382   \n",
       "\n",
       "       event_number  BaselineSlope  SingleTrigger  \n",
       "0             81146      -0.004776          False  \n",
       "1             81911      -0.000647           True  \n",
       "2             84090      -0.004409           True  \n",
       "3             84367      -0.002333           True  \n",
       "4             85011      -0.000906           True  \n",
       "...             ...            ...            ...  \n",
       "24858      10152655      -0.002778           True  \n",
       "24859      10153787      -0.002088           True  \n",
       "24860      10154324      -0.001870           True  \n",
       "24861      10154390      -0.000717           True  \n",
       "24862      10154613      -0.011195           True  \n",
       "\n",
       "[24863 rows x 14 columns]"
      ]
     },
     "execution_count": 4,
     "metadata": {},
     "output_type": "execute_result"
    }
   ],
   "source": [
    "tower2p1_events"
   ]
  },
  {
   "cell_type": "code",
   "execution_count": 5,
   "metadata": {},
   "outputs": [
    {
     "data": {
      "text/plain": [
       "array([54, 53, 58, 55, 56, 62, 61, 65, 64, 57, 60, 59, 63])"
      ]
     },
     "execution_count": 5,
     "metadata": {},
     "output_type": "execute_result"
    }
   ],
   "source": [
    "tower2p1_events[\"Channel\"].unique()"
   ]
  },
  {
   "cell_type": "code",
   "execution_count": 6,
   "metadata": {},
   "outputs": [],
   "source": [
    "CHANNEL=60 #hard-coding this for now..."
   ]
  },
  {
   "cell_type": "code",
   "execution_count": 7,
   "metadata": {},
   "outputs": [],
   "source": [
    "file=open(\"average_pulse_dump/Channel00\"+str(CHANNEL)+\"_AveragePulse.txt\")\n",
    "for line in file:\n",
    "    parse=line.replace(\"fData  \",\"\")\n",
    "    parse=parse.replace(\"\\n\",\"\")\n",
    "    splits=parse.split(\" \")\n",
    "    avg_pulse=np.array(splits,dtype=float)\n",
    "    break\n",
    "\n",
    "cleaned_avg_pulse=(avg_pulse-np.mean(avg_pulse[0:50]))/np.max(avg_pulse-np.mean(avg_pulse[0:50]))"
   ]
  },
  {
   "cell_type": "code",
   "execution_count": 8,
   "metadata": {},
   "outputs": [
    {
     "data": {
      "text/plain": [
       "Text(0, 0.5, 'Pulse Amplitude: Correlates to E')"
      ]
     },
     "execution_count": 8,
     "metadata": {},
     "output_type": "execute_result"
    },
    {
     "data": {
      "image/png": "[encoded data removed]",
      "text/plain": [
       "<Figure size 640x480 with 1 Axes>"
      ]
     },
     "metadata": {},
     "output_type": "display_data"
    }
   ],
   "source": [
    "#check out what normalized average pulse for channel 60 is\n",
    "\n",
    "fully_sampled_times=np.linspace(-3,7,10000) #seconds\n",
    "\n",
    "plt.plot(fully_sampled_times,cleaned_avg_pulse)\n",
    "\n",
    "plt.xlabel(\"Time (s)\")\n",
    "plt.ylabel(\"Pulse Amplitude: Correlates to E\")"
   ]
  },
  {
   "cell_type": "code",
   "execution_count": 9,
   "metadata": {},
   "outputs": [],
   "source": [
    "THIS_PULSE=8272 #pulse we'll focus on, to get nODE working"
   ]
  },
  {
   "cell_type": "code",
   "execution_count": 10,
   "metadata": {},
   "outputs": [
    {
     "data": {
      "text/html": [
       "<div>\n",
       "<style scoped>\n",
       "    .dataframe tbody tr th:only-of-type {\n",
       "        vertical-align: middle;\n",
       "    }\n",
       "\n",
       "    .dataframe tbody tr th {\n",
       "        vertical-align: top;\n",
       "    }\n",
       "\n",
       "    .dataframe thead th {\n",
       "        text-align: right;\n",
       "    }\n",
       "</style>\n",
       "<table border=\"1\" class=\"dataframe\">\n",
       "  <thead>\n",
       "    <tr style=\"text-align: right;\">\n",
       "      <th></th>\n",
       "      <th>Channel</th>\n",
       "      <th>Time</th>\n",
       "      <th>CoincTime</th>\n",
       "      <th>NumPulses</th>\n",
       "      <th>OFdelay</th>\n",
       "      <th>OFChi2</th>\n",
       "      <th>Energy</th>\n",
       "      <th>Baseline</th>\n",
       "      <th>MaxToBaseline</th>\n",
       "      <th>Run</th>\n",
       "      <th>PCANorm</th>\n",
       "      <th>event_number</th>\n",
       "      <th>BaselineSlope</th>\n",
       "      <th>SingleTrigger</th>\n",
       "    </tr>\n",
       "  </thead>\n",
       "  <tbody>\n",
       "    <tr>\n",
       "      <th>8272</th>\n",
       "      <td>60</td>\n",
       "      <td>43488.616</td>\n",
       "      <td>43485.538606</td>\n",
       "      <td>1</td>\n",
       "      <td>3.079257</td>\n",
       "      <td>4.561317</td>\n",
       "      <td>1123.404947</td>\n",
       "      <td>-4594.086314</td>\n",
       "      <td>390.785838</td>\n",
       "      <td>352044</td>\n",
       "      <td>0.430006</td>\n",
       "      <td>3448536</td>\n",
       "      <td>0.001447</td>\n",
       "      <td>True</td>\n",
       "    </tr>\n",
       "  </tbody>\n",
       "</table>\n",
       "</div>"
      ],
      "text/plain": [
       "      Channel       Time     CoincTime  NumPulses   OFdelay    OFChi2  \\\n",
       "8272       60  43488.616  43485.538606          1  3.079257  4.561317   \n",
       "\n",
       "           Energy     Baseline  MaxToBaseline     Run   PCANorm  event_number  \\\n",
       "8272  1123.404947 -4594.086314     390.785838  352044  0.430006       3448536   \n",
       "\n",
       "      BaselineSlope  SingleTrigger  \n",
       "8272       0.001447           True  "
      ]
     },
     "execution_count": 10,
     "metadata": {},
     "output_type": "execute_result"
    }
   ],
   "source": [
    "#check info on it...\n",
    "\n",
    "#how to pass back & forth between event number & pulse id...\n",
    "tower2p1_events[tower2p1_events['event_number']==event_nums_tower2p1[THIS_PULSE]]"
   ]
  },
  {
   "cell_type": "code",
   "execution_count": 11,
   "metadata": {},
   "outputs": [],
   "source": [
    "THIS_ENERGY=tower2p1_events[tower2p1_events['event_number']==event_nums_tower2p1[THIS_PULSE]].iloc[0]['Energy']"
   ]
  },
  {
   "cell_type": "code",
   "execution_count": 12,
   "metadata": {},
   "outputs": [
    {
     "name": "stdout",
     "output_type": "stream",
     "text": [
      "1123.4049474985482  keV\n"
     ]
    },
    {
     "data": {
      "image/png": "[encoded data removed]",
      "text/plain": [
       "<Figure size 640x480 with 1 Axes>"
      ]
     },
     "metadata": {},
     "output_type": "display_data"
    }
   ],
   "source": [
    "plt.plot(np.linspace(-3,7,10000),ADC2mV*pulses_tower2p1[THIS_PULSE])\n",
    "\n",
    "plt.xlabel(\"Time (s)\")\n",
    "plt.ylabel(\"Pulse Voltage (mV)\")\n",
    "\n",
    "print(THIS_ENERGY, \" keV\")"
   ]
  },
  {
   "cell_type": "code",
   "execution_count": 13,
   "metadata": {},
   "outputs": [
    {
     "data": {
      "text/plain": [
       "array([[-74182, -74180, -74182, ..., -74286, -74289, -74289],\n",
       "       [-37945, -37953, -37955, ..., -37966, -37958, -37950],\n",
       "       [-37614, -37620, -37625, ..., -37743, -37740, -37736],\n",
       "       ...,\n",
       "       [-42675, -42675, -42678, ..., -42637, -42637, -42637],\n",
       "       [-54926, -54922, -54917, ..., -54976, -54986, -54995],\n",
       "       [-39121, -39119, -39126, ..., -39519, -39522, -39521]], dtype=int32)"
      ]
     },
     "execution_count": 13,
     "metadata": {},
     "output_type": "execute_result"
    }
   ],
   "source": [
    "pulses_tower2p1"
   ]
  },
  {
   "cell_type": "code",
   "execution_count": 14,
   "metadata": {},
   "outputs": [
    {
     "name": "stdout",
     "output_type": "stream",
     "text": [
      "1123.4049474985482  keV\n"
     ]
    },
    {
     "data": {
      "text/plain": [
       "(-0.1, 0.1)"
      ]
     },
     "execution_count": 14,
     "metadata": {},
     "output_type": "execute_result"
    },
    {
     "data": {
      "image/png": "[encoded data removed]",
      "text/plain": [
       "<Figure size 640x480 with 1 Axes>"
      ]
     },
     "metadata": {},
     "output_type": "display_data"
    }
   ],
   "source": [
    "plt.plot(np.linspace(-3,7,10000),ADC2mV*pulses_tower2p1[THIS_PULSE])\n",
    "\n",
    "plt.xlabel(\"Time (s)\")\n",
    "plt.ylabel(\"Pulse Voltage (mV)\")\n",
    "\n",
    "print(THIS_ENERGY, \" keV\")\n",
    "\n",
    "plt.xlim([-0.1,0.1])"
   ]
  },
  {
   "cell_type": "code",
   "execution_count": 15,
   "metadata": {},
   "outputs": [],
   "source": [
    "### feel free to normalize the pulse, e.g. correct for the baseline offset, and make overall amplitude ~0.5\n",
    "\n",
    "###can start by setting initial condition at time 0, but we should think about how to fine-tune for small time offsets:\n",
    "### could be grid-search, add differentiable parameter\n",
    "# this will also be easier when we move beyond 1 pulse to fitting many pulses simulatenously\n",
    "\n",
    "#initial conditions: should be (0, Energy, 0)\n",
    "#                               ^    ^     ^\n",
    "#                               |    |     |\n",
    "#                               |    |     \\- this variable is an extra with no clear interpretation, but can assist in modelling\n",
    "#                               |    \\- this variable models the energy: has initial condition from calibration\n",
    "#                               \\- this variable models the observed pulse, and is the only one entering into the loss\n",
    "#start off with just our usual MSE-loss between predicted and observed"
   ]
  },
  {
   "cell_type": "code",
   "execution_count": 104,
   "metadata": {},
   "outputs": [
    {
     "data": {
      "text/plain": [
       "[<matplotlib.lines.Line2D at 0x318366990>]"
      ]
     },
     "execution_count": 104,
     "metadata": {},
     "output_type": "execute_result"
    },
    {
     "data": {
      "image/png": "[encoded data removed]",
      "text/plain": [
       "<Figure size 640x480 with 1 Axes>"
      ]
     },
     "metadata": {},
     "output_type": "display_data"
    }
   ],
   "source": [
    "fully_sampled_times=np.linspace(-3,7,10000) #seconds\n",
    "\n",
    "plt.plot(fully_sampled_times,cleaned_avg_pulse)"
   ]
  },
  {
   "cell_type": "code",
   "execution_count": 105,
   "metadata": {},
   "outputs": [
    {
     "data": {
      "text/html": [
       "<div>\n",
       "<style scoped>\n",
       "    .dataframe tbody tr th:only-of-type {\n",
       "        vertical-align: middle;\n",
       "    }\n",
       "\n",
       "    .dataframe tbody tr th {\n",
       "        vertical-align: top;\n",
       "    }\n",
       "\n",
       "    .dataframe thead th {\n",
       "        text-align: right;\n",
       "    }\n",
       "</style>\n",
       "<table border=\"1\" class=\"dataframe\">\n",
       "  <thead>\n",
       "    <tr style=\"text-align: right;\">\n",
       "      <th></th>\n",
       "      <th>Times</th>\n",
       "      <th>Energy</th>\n",
       "    </tr>\n",
       "  </thead>\n",
       "  <tbody>\n",
       "    <tr>\n",
       "      <th>0</th>\n",
       "      <td>-3.000</td>\n",
       "      <td>-1.093597</td>\n",
       "    </tr>\n",
       "    <tr>\n",
       "      <th>1</th>\n",
       "      <td>-2.999</td>\n",
       "      <td>-1.093674</td>\n",
       "    </tr>\n",
       "    <tr>\n",
       "      <th>2</th>\n",
       "      <td>-2.998</td>\n",
       "      <td>-1.093731</td>\n",
       "    </tr>\n",
       "    <tr>\n",
       "      <th>3</th>\n",
       "      <td>-2.997</td>\n",
       "      <td>-1.093655</td>\n",
       "    </tr>\n",
       "    <tr>\n",
       "      <th>4</th>\n",
       "      <td>-2.996</td>\n",
       "      <td>-1.093559</td>\n",
       "    </tr>\n",
       "    <tr>\n",
       "      <th>...</th>\n",
       "      <td>...</td>\n",
       "      <td>...</td>\n",
       "    </tr>\n",
       "    <tr>\n",
       "      <th>9995</th>\n",
       "      <td>6.996</td>\n",
       "      <td>-1.093273</td>\n",
       "    </tr>\n",
       "    <tr>\n",
       "      <th>9996</th>\n",
       "      <td>6.997</td>\n",
       "      <td>-1.093273</td>\n",
       "    </tr>\n",
       "    <tr>\n",
       "      <th>9997</th>\n",
       "      <td>6.998</td>\n",
       "      <td>-1.093311</td>\n",
       "    </tr>\n",
       "    <tr>\n",
       "      <th>9998</th>\n",
       "      <td>6.999</td>\n",
       "      <td>-1.093235</td>\n",
       "    </tr>\n",
       "    <tr>\n",
       "      <th>9999</th>\n",
       "      <td>7.000</td>\n",
       "      <td>-1.093121</td>\n",
       "    </tr>\n",
       "  </tbody>\n",
       "</table>\n",
       "<p>10000 rows × 2 columns</p>\n",
       "</div>"
      ],
      "text/plain": [
       "      Times    Energy\n",
       "0    -3.000 -1.093597\n",
       "1    -2.999 -1.093674\n",
       "2    -2.998 -1.093731\n",
       "3    -2.997 -1.093655\n",
       "4    -2.996 -1.093559\n",
       "...     ...       ...\n",
       "9995  6.996 -1.093273\n",
       "9996  6.997 -1.093273\n",
       "9997  6.998 -1.093311\n",
       "9998  6.999 -1.093235\n",
       "9999  7.000 -1.093121\n",
       "\n",
       "[10000 rows x 2 columns]"
      ]
     },
     "execution_count": 105,
     "metadata": {},
     "output_type": "execute_result"
    }
   ],
   "source": [
    "df = pd.DataFrame({\"Times\": np.linspace(-3,7,10000), \"Energy\": ADC2mV/4200*pulses_tower2p1[THIS_PULSE]})\n",
    "df\n"
   ]
  },
  {
   "cell_type": "code",
   "execution_count": 106,
   "metadata": {},
   "outputs": [],
   "source": [
    "df.to_csv('file1.csv')"
   ]
  },
  {
   "cell_type": "code",
   "execution_count": 107,
   "metadata": {},
   "outputs": [],
   "source": [
    "import numpy as np \n",
    "import pandas as pd \n",
    "\n",
    "import optax\n",
    "import matplotlib.pyplot as plt\n",
    "from typing import List\n",
    "import equinox as eqx\n",
    "import jax\n",
    "import jax.numpy as jnp\n",
    "import time\n",
    "\n",
    "import diffrax\n",
    "import equinox as eqx  # https://github.com/patrick-kidger/equinox\n",
    "import jax\n",
    "import jax.nn as jnn\n",
    "import jax.numpy as jnp\n",
    "import jax.random as jr\n",
    "import matplotlib.pyplot as plt\n",
    "import optax"
   ]
  },
  {
   "cell_type": "code",
   "execution_count": 108,
   "metadata": {},
   "outputs": [],
   "source": [
    "energies = jnp.array(df[\"Energy\"])\n",
    "time = jnp.array(df[\"Times\"])\n",
    "energies += energies[0]*-1"
   ]
  },
  {
   "cell_type": "code",
   "execution_count": 109,
   "metadata": {},
   "outputs": [
    {
     "data": {
      "text/plain": [
       "[<matplotlib.lines.Line2D at 0x3184e0350>]"
      ]
     },
     "execution_count": 109,
     "metadata": {},
     "output_type": "execute_result"
    },
    {
     "data": {
      "image/png": "[encoded data removed]",
      "text/plain": [
       "<Figure size 640x480 with 1 Axes>"
      ]
     },
     "metadata": {},
     "output_type": "display_data"
    }
   ],
   "source": [
    "plt.plot(time, energies)"
   ]
  },
  {
   "cell_type": "code",
   "execution_count": 110,
   "metadata": {},
   "outputs": [],
   "source": [
    "time = time[2900:]\n",
    "energies = energies[2900:]"
   ]
  },
  {
   "cell_type": "code",
   "execution_count": 111,
   "metadata": {},
   "outputs": [],
   "source": [
    "energies = energies/max(energies)"
   ]
  },
  {
   "cell_type": "code",
   "execution_count": 112,
   "metadata": {},
   "outputs": [
    {
     "data": {
      "text/plain": [
       "[<matplotlib.lines.Line2D at 0x305118c90>]"
      ]
     },
     "execution_count": 112,
     "metadata": {},
     "output_type": "execute_result"
    },
    {
     "data": {
      "image/png": "[encoded data removed]",
      "text/plain": [
       "<Figure size 640x480 with 1 Axes>"
      ]
     },
     "metadata": {},
     "output_type": "display_data"
    }
   ],
   "source": [
    "plt.plot(time, energies)"
   ]
  },
  {
   "cell_type": "code",
   "execution_count": 113,
   "metadata": {},
   "outputs": [],
   "source": [
    "length = len(energies)\n",
    "z_s = np.linspace(0, 4, length)"
   ]
  },
  {
   "cell_type": "code",
   "execution_count": 171,
   "metadata": {},
   "outputs": [],
   "source": [
    "class LinearFunction(eqx.Module):\n",
    "    layers: list\n",
    "\n",
    "    def __init__(self, key): \n",
    "        key1, key2, key3, key4, key5, key6, key7 = jax.random.split(key, 7)\n",
    "        self.layers = [eqx.nn.Linear(3,6, key = key1, use_bias=True), \n",
    "                       eqx.nn.Linear(6,3, key = key1, use_bias=True)] \n",
    "    def __call__(self, t, y, *args):\n",
    "       # print(\"DEBUG\", t,y)\n",
    "        for layer in self.layers[:-1]:\n",
    "            y = jax.nn.tanh(layer(y))\n",
    "        y = self.layers[-1](y)\n",
    "\n",
    "       # print(\"DEBUG2\", y)\n",
    "        return y"
   ]
  },
  {
   "cell_type": "code",
   "execution_count": 172,
   "metadata": {},
   "outputs": [],
   "source": [
    "vars = [energies[0], 10, 0]"
   ]
  },
  {
   "cell_type": "code",
   "execution_count": 173,
   "metadata": {},
   "outputs": [
    {
     "data": {
      "text/plain": [
       "Array([ 0.        , -0.00143855, -0.00308261, ...,  0.00308261,\n",
       "        0.00390464,  0.00513769], dtype=float32)"
      ]
     },
     "execution_count": 173,
     "metadata": {},
     "output_type": "execute_result"
    }
   ],
   "source": [
    "energies"
   ]
  },
  {
   "cell_type": "code",
   "execution_count": null,
   "metadata": {},
   "outputs": [],
   "source": [
    "def model_to_loss(model, y_s, z_s, t_s):\n",
    "    # Solve the differential equation\n",
    "    \n",
    "   # print(type(t_s))\n",
    "    #print(\"MODELTOLOSS\", y_s[0], z_s[0], t_s[len[t_s]])\n",
    "    solutions = diffrax.diffeqsolve(\n",
    "        diffrax.ODETerm(model),\n",
    "        diffrax.Tsit5(),\n",
    "        t0=float(t_s[0]),\n",
    "        t1=float(t_s[-1]),\n",
    "        dt0=0.001,\n",
    "        y0=jnp.array(vars, dtype=jnp.float64),  \n",
    "        stepsize_controller=diffrax.PIDController(rtol=1e-5, atol=1e-6),\n",
    "        saveat=diffrax.SaveAt(ts=jnp.sort(t_s)),\n",
    "    )\n",
    "    \n",
    "    y = solutions.ys[:length-1, 0]\n",
    "    a =  solutions.ys[:length-1, 1]\n",
    "    b =  solutions.ys[:length-1, 2]\n",
    "     \n",
    "   # print(y)\n",
    "\n",
    "    \n",
    "    # Use nan_to_num to handle NaNs\n",
    "    y = jnp.nan_to_num(y, nan=0.0)\n",
    "   \n",
    "   \n",
    "    # Calculate squared differences for the loss\n",
    "    y_diff = ((y - y_s[:length-1]) ** 2)\n",
    "    #z_diff = (z - z_s[:N_SAMPLES-1]) ** 2\n",
    "   # print(jnp.mean(y_diff) + jnp.mean(z_diff))\n",
    "   # return jnp.sqrt(jnp.mean(y_diff))\n",
    "\n",
    "   # Predicted outputs\n",
    "    y = solutions.ys[:length - 1, 0]\n",
    "    all_outputs = solutions.ys\n",
    "\n",
    "   \n",
    "    y_diff = (y - y_s[:length - 1]) ** 2\n",
    "    squared_loss = jnp.mean(y_diff)\n",
    "\n",
    "   \n",
    "    zero_input = jnp.zeros_like(all_outputs[0])\n",
    "    zero_output = model(0, zero_input)  \n",
    "    equilibrium_loss = jnp.mean(jnp.abs(zero_output) ** 2)\n",
    "\n",
    "   \n",
    "    final_output = all_outputs[-1]\n",
    "    end_loss = jnp.mean(jnp.abs(final_output))\n",
    "\n",
    "    reg_lambda = 1e-4\n",
    "\n",
    "    #l2_loss = reg_lambda * sum(jnp.sum(jnp.square(p)) for p in jax.tree_util.tree_leaves(model) if p.ndim > 0)\n",
    "    total_loss = (squared_loss + equilibrium_loss)\n",
    "    return total_loss"
   ]
  },
  {
   "cell_type": "code",
   "execution_count": 175,
   "metadata": {},
   "outputs": [
    {
     "name": "stderr",
     "output_type": "stream",
     "text": [
      "/var/folders/wr/p4g_vhcn34g6101bsy9rmsd40000gn/T/ipykernel_10127/412970336.py:12: UserWarning: Explicitly requested dtype <class 'jax.numpy.float64'> requested in array is not available, and will be truncated to dtype float32. To enable more dtypes, set the jax_enable_x64 configuration option or the JAX_ENABLE_X64 shell environment variable. See https://github.com/jax-ml/jax#current-gotchas for more.\n",
      "  y0=jnp.array(vars, dtype=jnp.float64),\n"
     ]
    },
    {
     "name": "stdout",
     "output_type": "stream",
     "text": [
      "Epoch 0, Loss 3.0820415019989014\n"
     ]
    },
    {
     "name": "stderr",
     "output_type": "stream",
     "text": [
      "/var/folders/wr/p4g_vhcn34g6101bsy9rmsd40000gn/T/ipykernel_10127/412970336.py:12: UserWarning: Explicitly requested dtype <class 'jax.numpy.float64'> requested in array is not available, and will be truncated to dtype float32. To enable more dtypes, set the jax_enable_x64 configuration option or the JAX_ENABLE_X64 shell environment variable. See https://github.com/jax-ml/jax#current-gotchas for more.\n",
      "  y0=jnp.array(vars, dtype=jnp.float64),\n"
     ]
    },
    {
     "name": "stdout",
     "output_type": "stream",
     "text": [
      "Epoch 100, Loss 0.044696658849716187\n",
      "Epoch 200, Loss 0.04043697938323021\n",
      "Epoch 300, Loss 0.039464302361011505\n",
      "Epoch 400, Loss 0.03832018002867699\n",
      "Epoch 500, Loss 0.03596557676792145\n",
      "Epoch 600, Loss 0.033607881516218185\n",
      "Epoch 700, Loss 0.03163113445043564\n",
      "Epoch 800, Loss 0.030013281852006912\n",
      "Epoch 900, Loss 0.02864781767129898\n",
      "Epoch 1000, Loss 0.027355164289474487\n",
      "Epoch 1100, Loss 0.02615869790315628\n",
      "Epoch 1200, Loss 0.024926630780100822\n",
      "Epoch 1300, Loss 0.02378184162080288\n",
      "Epoch 1400, Loss 0.022024285048246384\n",
      "Epoch 1500, Loss 0.02057528682053089\n",
      "Epoch 1600, Loss 0.019394060596823692\n",
      "Epoch 1700, Loss 0.01842264086008072\n",
      "Epoch 1800, Loss 0.017094900831580162\n",
      "Epoch 1900, Loss 0.01579388976097107\n",
      "Epoch 2000, Loss 0.014534332789480686\n",
      "Epoch 2100, Loss 0.013297301717102528\n",
      "Epoch 2200, Loss 0.012061752378940582\n",
      "Epoch 2300, Loss 0.010827275924384594\n",
      "Epoch 2400, Loss 0.009675580076873302\n",
      "Epoch 2500, Loss 0.00867520272731781\n",
      "Epoch 2600, Loss 0.00756128178909421\n",
      "Epoch 2700, Loss 0.006720009259879589\n",
      "Epoch 2800, Loss 0.0059068151749670506\n",
      "Epoch 2900, Loss 0.00534108467400074\n",
      "Epoch 3000, Loss 0.004635279532521963\n",
      "Epoch 3100, Loss 0.004125508479773998\n",
      "Epoch 3200, Loss 0.003696658881381154\n",
      "Epoch 3300, Loss 0.003337746486067772\n",
      "Epoch 3400, Loss 0.003037318354472518\n",
      "Epoch 3500, Loss 0.002748713828623295\n",
      "Epoch 3600, Loss 0.0024647200480103493\n",
      "Epoch 3700, Loss 0.002220622031018138\n",
      "Epoch 3800, Loss 0.002022063359618187\n",
      "Epoch 3900, Loss 0.001883091637864709\n",
      "Epoch 4000, Loss 0.0016847270308062434\n",
      "Epoch 4100, Loss 0.0014869895530864596\n",
      "Epoch 4200, Loss 0.001565182930789888\n",
      "Epoch 4300, Loss 0.0012489433865994215\n",
      "Epoch 4400, Loss 0.0011445170966908336\n",
      "Epoch 4500, Loss 0.0011456705396994948\n",
      "Epoch 4600, Loss 0.0011372396256774664\n",
      "Epoch 4700, Loss 0.0010627185693010688\n",
      "Epoch 4800, Loss 0.0009177686297334731\n",
      "Epoch 4900, Loss 0.0007900293567217886\n",
      "Epoch 5000, Loss 0.0007901889621280134\n",
      "Epoch 5100, Loss 0.0008481016848236322\n",
      "Epoch 5200, Loss 0.0009046961204148829\n",
      "Epoch 5300, Loss 0.0007962018135003746\n",
      "Epoch 5400, Loss 0.0006710679735988379\n",
      "Epoch 5500, Loss 0.0006358998361974955\n",
      "Epoch 5600, Loss 0.0007233919459395111\n",
      "Epoch 5700, Loss 0.0005920637049712241\n",
      "Epoch 5800, Loss 0.0005631355452351272\n",
      "Epoch 5900, Loss 0.0006207374390214682\n",
      "Epoch 6000, Loss 0.0005625400226563215\n",
      "Epoch 6100, Loss 0.000685072795022279\n",
      "Epoch 6200, Loss 0.0006643117521889508\n",
      "Epoch 6300, Loss 0.000605141103733331\n",
      "Epoch 6400, Loss 0.0006745506543666124\n",
      "Epoch 6500, Loss 0.0005494499346241355\n",
      "Epoch 6600, Loss 0.0005609040963463485\n",
      "Epoch 6700, Loss 0.0005273794522508979\n",
      "Epoch 6800, Loss 0.0007772424723953009\n",
      "Epoch 6900, Loss 0.0006039587315171957\n",
      "Epoch 7000, Loss 0.0005618470022454858\n",
      "Epoch 7100, Loss 0.0005939221009612083\n",
      "Epoch 7200, Loss 0.0005103350849822164\n",
      "Epoch 7300, Loss 0.0005855844938196242\n",
      "Epoch 7400, Loss 0.0005378022324293852\n",
      "Epoch 7500, Loss 0.0006395857781171799\n",
      "Epoch 7600, Loss 0.0005666431970894337\n",
      "Epoch 7700, Loss 0.0005155287217348814\n",
      "Epoch 7800, Loss 0.0006068142247386277\n",
      "Epoch 7900, Loss 0.0005875140777789056\n",
      "Epoch 8000, Loss 0.0005847228458151221\n",
      "Epoch 8100, Loss 0.0005577370175160468\n",
      "Epoch 8200, Loss 0.0005129344062879682\n",
      "Epoch 8300, Loss 0.0004934694152325392\n",
      "Epoch 8400, Loss 0.0004997164360247552\n",
      "Epoch 8500, Loss 0.0005690510733984411\n",
      "Epoch 8600, Loss 0.0005037395167164505\n",
      "Epoch 8700, Loss 0.0004966376582160592\n",
      "Epoch 8800, Loss 0.0005648158257827163\n",
      "Epoch 8900, Loss 0.00047592309419997036\n",
      "Epoch 9000, Loss 0.0005308497929945588\n",
      "Epoch 9100, Loss 0.00048642526962794363\n",
      "Epoch 9200, Loss 0.0005517888930626214\n",
      "Epoch 9300, Loss 0.0006183732766658068\n",
      "Epoch 9400, Loss 0.0005070442566648126\n",
      "Epoch 9500, Loss 0.0005557947442866862\n",
      "Epoch 9600, Loss 0.0005314302979968488\n",
      "Epoch 9700, Loss 0.000460195355117321\n",
      "Epoch 9800, Loss 0.0005779739585705101\n",
      "Epoch 9900, Loss 0.0005273317219689488\n",
      "Epoch 10000, Loss 0.00045252376003190875\n",
      "Epoch 10100, Loss 0.00043246825225651264\n",
      "Epoch 10200, Loss 0.00044043950038030744\n",
      "Epoch 10300, Loss 0.0005388407153077424\n",
      "Epoch 10400, Loss 0.000470571918413043\n",
      "Epoch 10500, Loss 0.0004447515239007771\n",
      "Epoch 10600, Loss 0.0006449574721045792\n",
      "Epoch 10700, Loss 0.0004549053846858442\n",
      "Epoch 10800, Loss 0.00042679166654124856\n",
      "Epoch 10900, Loss 0.0006261779344640672\n",
      "Epoch 11000, Loss 0.0005067530437372625\n",
      "Epoch 11100, Loss 0.0004494989407248795\n",
      "Epoch 11200, Loss 0.0004950903821736574\n",
      "Epoch 11300, Loss 0.0004181626718491316\n",
      "Epoch 11400, Loss 0.00045268595567904413\n",
      "Epoch 11500, Loss 0.00042028792086057365\n",
      "Epoch 11600, Loss 0.0004826344666071236\n",
      "Epoch 11700, Loss 0.00041234857053495944\n",
      "Epoch 11800, Loss 0.00043485857895575464\n",
      "Epoch 11900, Loss 0.000481370952911675\n",
      "Epoch 12000, Loss 0.0004743397294078022\n",
      "Epoch 12100, Loss 0.0005632779211737216\n",
      "Epoch 12200, Loss 0.00042133292299695313\n",
      "Epoch 12300, Loss 0.0004277632397133857\n",
      "Epoch 12400, Loss 0.000512325088493526\n",
      "Epoch 12500, Loss 0.0004325964255258441\n",
      "Epoch 12600, Loss 0.00047319516306743026\n",
      "Epoch 12700, Loss 0.0004424208018463105\n",
      "Epoch 12800, Loss 0.0005164630129002035\n",
      "Epoch 12900, Loss 0.0004474211309570819\n",
      "Epoch 13000, Loss 0.00045935699017718434\n",
      "Epoch 13100, Loss 0.0004315845435485244\n",
      "Epoch 13200, Loss 0.0004662844003178179\n",
      "Epoch 13300, Loss 0.000502079667057842\n",
      "Epoch 13400, Loss 0.0004278853302821517\n",
      "Epoch 13500, Loss 0.00043294354691170156\n",
      "Epoch 13600, Loss 0.0005725913215428591\n",
      "Epoch 13700, Loss 0.00040472278487868607\n",
      "Epoch 13800, Loss 0.00047902658116072416\n",
      "Epoch 13900, Loss 0.000476127170259133\n",
      "Epoch 14000, Loss 0.0004483012016862631\n",
      "Epoch 14100, Loss 0.00044188034371472895\n",
      "Epoch 14200, Loss 0.0004236903041601181\n",
      "Epoch 14300, Loss 0.0005665332428179681\n",
      "Epoch 14400, Loss 0.00039990394725464284\n",
      "Epoch 14500, Loss 0.00047151721082627773\n",
      "Epoch 14600, Loss 0.00046856910921633244\n",
      "Epoch 14700, Loss 0.0004441136261448264\n",
      "Epoch 14800, Loss 0.00044190214248374104\n",
      "Epoch 14900, Loss 0.00041212249197997153\n",
      "Epoch 15000, Loss 0.0005538020050153136\n",
      "Epoch 15100, Loss 0.00039280293276533484\n",
      "Epoch 15200, Loss 0.0004829467216040939\n",
      "Epoch 15300, Loss 0.0005402701790444553\n",
      "Epoch 15400, Loss 0.0003924191405531019\n",
      "Epoch 15500, Loss 0.00042189040686935186\n",
      "Epoch 15600, Loss 0.0005621403688564897\n",
      "Epoch 15700, Loss 0.0003899036382790655\n",
      "Epoch 15800, Loss 0.00046156771713867784\n",
      "Epoch 15900, Loss 0.00045964261516928673\n",
      "Epoch 16000, Loss 0.00047359958989545703\n",
      "Epoch 16100, Loss 0.0004240746784489602\n",
      "Epoch 16200, Loss 0.0004069990536663681\n",
      "Epoch 16300, Loss 0.00044911488657817245\n",
      "Epoch 16400, Loss 0.0005290683475323021\n",
      "Epoch 16500, Loss 0.0003839188429992646\n",
      "Epoch 16600, Loss 0.00040334847290068865\n",
      "Epoch 16700, Loss 0.0005261291516944766\n",
      "Epoch 16800, Loss 0.0003923435288015753\n",
      "Epoch 16900, Loss 0.0004461134085431695\n",
      "Epoch 17000, Loss 0.0003996760933659971\n",
      "Epoch 17100, Loss 0.0005056835943832994\n",
      "Epoch 17200, Loss 0.00048512386274524033\n",
      "Epoch 17300, Loss 0.0003808092442341149\n",
      "Epoch 17400, Loss 0.0004674658994190395\n",
      "Epoch 17500, Loss 0.0005257581942714751\n",
      "Epoch 17600, Loss 0.00039524235762655735\n",
      "Epoch 17700, Loss 0.0003930663224309683\n",
      "Epoch 17800, Loss 0.0004535989137366414\n",
      "Epoch 17900, Loss 0.0004068559792358428\n",
      "Epoch 18000, Loss 0.00045268976828083396\n",
      "Epoch 18100, Loss 0.0003792975330725312\n",
      "Epoch 18200, Loss 0.00048524956218898296\n",
      "Epoch 18300, Loss 0.0005302233621478081\n",
      "Epoch 18400, Loss 0.000372782233171165\n",
      "Epoch 18500, Loss 0.0004512669111136347\n",
      "Epoch 18600, Loss 0.00048812167369760573\n",
      "Epoch 18700, Loss 0.0004092857998330146\n",
      "Epoch 18800, Loss 0.0004017555038444698\n",
      "Epoch 18900, Loss 0.00040309844189323485\n",
      "Epoch 19000, Loss 0.00043747981544584036\n",
      "Epoch 19100, Loss 0.0004885749658569694\n",
      "Epoch 19200, Loss 0.0003683061513584107\n",
      "Epoch 19300, Loss 0.00043584994273260236\n",
      "Epoch 19400, Loss 0.000533236307092011\n",
      "Epoch 19500, Loss 0.00037868836079724133\n",
      "Epoch 19600, Loss 0.00041732139652594924\n",
      "Epoch 19700, Loss 0.0004080922226421535\n",
      "Epoch 19800, Loss 0.0004639074031729251\n",
      "Epoch 19900, Loss 0.00047103193355724216\n",
      "Epoch 20000, Loss 0.0003680820227600634\n",
      "Epoch 20100, Loss 0.00045777816558256745\n",
      "Epoch 20200, Loss 0.0005112626240588725\n",
      "Epoch 20300, Loss 0.0003873798996210098\n",
      "Epoch 20400, Loss 0.0003976434236392379\n",
      "Epoch 20500, Loss 0.00039499878766946495\n",
      "Epoch 20600, Loss 0.00044820914627052844\n",
      "Epoch 20700, Loss 0.0004976033233106136\n",
      "Epoch 20800, Loss 0.00036482379073277116\n",
      "Epoch 20900, Loss 0.0004112106980755925\n",
      "Epoch 21000, Loss 0.0004638742539100349\n",
      "Epoch 21100, Loss 0.0004038602055516094\n",
      "Epoch 21200, Loss 0.0004360101302154362\n",
      "Epoch 21300, Loss 0.0003673518658615649\n",
      "Epoch 21400, Loss 0.00045414065243676305\n",
      "Epoch 21500, Loss 0.000519577763043344\n",
      "Epoch 21600, Loss 0.00038288169889710844\n",
      "Epoch 21700, Loss 0.00041198829421773553\n",
      "Epoch 21800, Loss 0.0003748592862393707\n",
      "Epoch 21900, Loss 0.00046815184759907424\n",
      "Epoch 22000, Loss 0.0005296748131513596\n",
      "Epoch 22100, Loss 0.0003784329164773226\n",
      "Epoch 22200, Loss 0.00040822295704856515\n",
      "Epoch 22300, Loss 0.0003728449810296297\n",
      "Epoch 22400, Loss 0.00046281053801067173\n",
      "Epoch 22500, Loss 0.0005143218440935016\n",
      "Epoch 22600, Loss 0.0003895311674568802\n",
      "Epoch 22700, Loss 0.000424947589635849\n",
      "Epoch 22800, Loss 0.0003622260701376945\n",
      "Epoch 22900, Loss 0.0004273394006304443\n",
      "Epoch 23000, Loss 0.00044088391587138176\n",
      "Epoch 23100, Loss 0.0004341857274994254\n",
      "Epoch 23200, Loss 0.0004949173890054226\n",
      "Epoch 23300, Loss 0.0003635342582128942\n",
      "Epoch 23400, Loss 0.0003959098248742521\n",
      "Epoch 23500, Loss 0.00036815390922129154\n",
      "Epoch 23600, Loss 0.0004494363092817366\n",
      "Epoch 23700, Loss 0.0004677727119997144\n",
      "Epoch 23800, Loss 0.00042471932829357684\n",
      "Epoch 23900, Loss 0.0005077729583717883\n",
      "Epoch 24000, Loss 0.000369273591786623\n",
      "Epoch 24100, Loss 0.00040571304270997643\n",
      "Epoch 24200, Loss 0.00035960657987743616\n",
      "Epoch 24300, Loss 0.0004108483262825757\n",
      "Epoch 24400, Loss 0.00038819998735561967\n",
      "Epoch 24500, Loss 0.000464569719042629\n",
      "Epoch 24600, Loss 0.00048495305236428976\n",
      "Epoch 24700, Loss 0.00042145754559896886\n",
      "Epoch 24800, Loss 0.0005199689767323434\n",
      "Epoch 24900, Loss 0.00038187240716069937\n",
      "Epoch 25000, Loss 0.00044233474181964993\n",
      "Epoch 25100, Loss 0.0003576805756893009\n",
      "Epoch 25200, Loss 0.0003999727196060121\n",
      "Epoch 25300, Loss 0.00035604220465756953\n",
      "Epoch 25400, Loss 0.0003910375526174903\n",
      "Epoch 25500, Loss 0.0003676177002489567\n",
      "Epoch 25600, Loss 0.0004241825081408024\n",
      "Epoch 25700, Loss 0.0003803771978709847\n",
      "Epoch 25800, Loss 0.0004438634787220508\n",
      "Epoch 25900, Loss 0.0004192560736555606\n",
      "Epoch 26000, Loss 0.0004613418714143336\n",
      "Epoch 26100, Loss 0.00043747329618781805\n",
      "Epoch 26200, Loss 0.00046628934796899557\n",
      "Epoch 26300, Loss 0.0004748196224682033\n",
      "Epoch 26400, Loss 0.00044483403326012194\n",
      "Epoch 26500, Loss 0.0004798864247277379\n",
      "Epoch 26600, Loss 0.0004565116250887513\n",
      "Epoch 26700, Loss 0.0004944123211316764\n",
      "Epoch 26800, Loss 0.000436458270996809\n",
      "Epoch 26900, Loss 0.0004821854527108371\n",
      "Epoch 27000, Loss 0.00045958044938743114\n",
      "Epoch 27100, Loss 0.0004804683558177203\n",
      "Epoch 27200, Loss 0.00044887428521178663\n",
      "Epoch 27300, Loss 0.0004442543431650847\n",
      "Epoch 27400, Loss 0.00046573500731028616\n",
      "Epoch 27500, Loss 0.00042884756112471223\n",
      "Epoch 27600, Loss 0.0004576305509544909\n",
      "Epoch 27700, Loss 0.00038398965261876583\n",
      "Epoch 27800, Loss 0.00041783950291574\n",
      "Epoch 27900, Loss 0.00037097843596711755\n",
      "Epoch 28000, Loss 0.000405680708354339\n",
      "Epoch 28100, Loss 0.00035245309118181467\n",
      "Epoch 28200, Loss 0.00038418860640376806\n",
      "Epoch 28300, Loss 0.0003511444665491581\n",
      "Epoch 28400, Loss 0.00042054857476614416\n",
      "Epoch 28500, Loss 0.00036810949677601457\n",
      "Epoch 28600, Loss 0.0004824348143301904\n",
      "Epoch 28700, Loss 0.0003907336504198611\n",
      "Epoch 28800, Loss 0.000499921792652458\n",
      "Epoch 28900, Loss 0.00046651787124574184\n",
      "Epoch 29000, Loss 0.0004163447010796517\n",
      "Epoch 29100, Loss 0.00043673202162608504\n",
      "Epoch 29200, Loss 0.00035369451506994665\n",
      "Epoch 29300, Loss 0.00038183460128493607\n",
      "Epoch 29400, Loss 0.0003508532827254385\n",
      "Epoch 29500, Loss 0.00046249100705608726\n",
      "Epoch 29600, Loss 0.00040428779902867973\n",
      "Epoch 29700, Loss 0.0004994716728106141\n",
      "Epoch 29800, Loss 0.0004571518220473081\n",
      "Epoch 29900, Loss 0.000368109525879845\n",
      "Epoch 30000, Loss 0.00038042443338781595\n",
      "Epoch 30100, Loss 0.00034879386657848954\n",
      "Epoch 30200, Loss 0.000451554951723665\n",
      "Epoch 30300, Loss 0.00040782359428703785\n",
      "Epoch 30400, Loss 0.00048119062557816505\n",
      "Epoch 30500, Loss 0.00045526851317845285\n",
      "Epoch 30600, Loss 0.0003521161852404475\n",
      "Epoch 30700, Loss 0.0003861952864099294\n",
      "Epoch 30800, Loss 0.0003576924791559577\n",
      "Epoch 30900, Loss 0.0005141773726791143\n",
      "Epoch 31000, Loss 0.0004663651925511658\n",
      "Epoch 31100, Loss 0.00037217774661257863\n",
      "Epoch 31200, Loss 0.0003900516894645989\n",
      "Epoch 31300, Loss 0.000361977843567729\n",
      "Epoch 31400, Loss 0.0005088855978101492\n",
      "Epoch 31500, Loss 0.0004543198738247156\n",
      "Epoch 31600, Loss 0.0003549083776306361\n",
      "Epoch 31700, Loss 0.0003847902116831392\n",
      "Epoch 31800, Loss 0.00036247650859877467\n",
      "Epoch 31900, Loss 0.00047838749014772475\n",
      "Epoch 32000, Loss 0.00042327624396421015\n",
      "Epoch 32100, Loss 0.0003483611799310893\n",
      "Epoch 32200, Loss 0.0004512636223807931\n",
      "Epoch 32300, Loss 0.000441982556367293\n",
      "Epoch 32400, Loss 0.0003939410380553454\n",
      "Epoch 32500, Loss 0.0003891966480296105\n",
      "Epoch 32600, Loss 0.00036670739063993096\n",
      "Epoch 32700, Loss 0.0004945987020619214\n",
      "Epoch 32800, Loss 0.0004412056878209114\n",
      "Epoch 32900, Loss 0.0003455919213593006\n",
      "Epoch 33000, Loss 0.00048097563558258116\n",
      "Epoch 33100, Loss 0.0004505558463279158\n",
      "Epoch 33200, Loss 0.0003472960670478642\n",
      "Epoch 33300, Loss 0.00041783388587646186\n",
      "Epoch 33400, Loss 0.0004099428770132363\n",
      "Epoch 33500, Loss 0.0003606182581279427\n",
      "Epoch 33600, Loss 0.00038704450707882643\n",
      "Epoch 33700, Loss 0.0003830705536529422\n",
      "Epoch 33800, Loss 0.0003779070102609694\n",
      "Epoch 33900, Loss 0.0003768415190279484\n",
      "Epoch 34000, Loss 0.00037156222970224917\n",
      "Epoch 34100, Loss 0.0003886195772793144\n",
      "Epoch 34200, Loss 0.0003746045986190438\n",
      "Epoch 34300, Loss 0.00036997220013290644\n",
      "Epoch 34400, Loss 0.0003852671361528337\n",
      "Epoch 34500, Loss 0.00037622760282829404\n",
      "Epoch 34600, Loss 0.0003774198703467846\n",
      "Epoch 34700, Loss 0.00036982964957132936\n",
      "Epoch 34800, Loss 0.0003859259304590523\n",
      "Epoch 34900, Loss 0.00039866985753178596\n",
      "Epoch 35000, Loss 0.0003521831822581589\n",
      "Epoch 35100, Loss 0.00041630497435107827\n",
      "Epoch 35200, Loss 0.0004387258377391845\n",
      "Epoch 35300, Loss 0.00034208715078420937\n",
      "Epoch 35400, Loss 0.0004785131895914674\n",
      "Epoch 35500, Loss 0.0004555769555736333\n",
      "Epoch 35600, Loss 0.0003461961168795824\n",
      "Epoch 35700, Loss 0.0004864860384259373\n",
      "Epoch 35800, Loss 0.00039353559259325266\n",
      "Epoch 35900, Loss 0.00038398519973270595\n",
      "Epoch 36000, Loss 0.000384840473998338\n",
      "Epoch 36100, Loss 0.0004153389891143888\n",
      "Epoch 36200, Loss 0.0004677411343436688\n",
      "Epoch 36300, Loss 0.00034342348226346076\n",
      "Epoch 36400, Loss 0.0005064286524429917\n",
      "Epoch 36500, Loss 0.0003796624660026282\n",
      "Epoch 36600, Loss 0.00036222708877176046\n",
      "Epoch 36700, Loss 0.00035958513035438955\n",
      "Epoch 36800, Loss 0.0004207465099170804\n",
      "Epoch 36900, Loss 0.0004606542643159628\n",
      "Epoch 37000, Loss 0.00034493900602683425\n",
      "Epoch 37100, Loss 0.000450754800112918\n",
      "Epoch 37200, Loss 0.00038604310248047113\n",
      "Epoch 37300, Loss 0.0004583264235407114\n",
      "Epoch 37400, Loss 0.0003423475136514753\n",
      "Epoch 37500, Loss 0.00048093716031871736\n",
      "Epoch 37600, Loss 0.0003698839573189616\n",
      "Epoch 37700, Loss 0.000405329919885844\n",
      "Epoch 37800, Loss 0.0003384604933671653\n",
      "Epoch 37900, Loss 0.0004937836201861501\n",
      "Epoch 38000, Loss 0.0003806896856985986\n",
      "Epoch 38100, Loss 0.0004453448345884681\n",
      "Epoch 38200, Loss 0.00034151494037359953\n",
      "Epoch 38300, Loss 0.0004513179592322558\n",
      "Epoch 38400, Loss 0.0003774238284677267\n",
      "Epoch 38500, Loss 0.00045317329932004213\n",
      "Epoch 38600, Loss 0.00034444074844941497\n",
      "Epoch 38700, Loss 0.00039890603511594236\n",
      "Epoch 38800, Loss 0.00045813125325366855\n",
      "Epoch 38900, Loss 0.00040029227966442704\n",
      "Epoch 39000, Loss 0.00037318695103749633\n",
      "Epoch 39100, Loss 0.0003373228246346116\n",
      "Epoch 39200, Loss 0.0004783234326168895\n",
      "Epoch 39300, Loss 0.00039141078013926744\n",
      "Epoch 39400, Loss 0.0004496990586631\n",
      "Epoch 39500, Loss 0.00035730155650526285\n",
      "Epoch 39600, Loss 0.00033833339693956077\n",
      "Epoch 39700, Loss 0.0004779237788170576\n",
      "Epoch 39800, Loss 0.0004022815846838057\n",
      "Epoch 39900, Loss 0.00041715349652804434\n",
      "Epoch 40000, Loss 0.0003894014225807041\n",
      "Epoch 40100, Loss 0.0003364098665770143\n",
      "Epoch 40200, Loss 0.0003743412671610713\n",
      "Epoch 40300, Loss 0.0005002272664569318\n",
      "Epoch 40400, Loss 0.00043939126771874726\n",
      "Epoch 40500, Loss 0.0005245049251243472\n",
      "Epoch 40600, Loss 0.0004473370499908924\n",
      "Epoch 40700, Loss 0.0005361327202990651\n",
      "Epoch 40800, Loss 0.000460952112916857\n",
      "Epoch 40900, Loss 0.00041447236435487866\n",
      "Epoch 41000, Loss 0.00040185527177527547\n",
      "Epoch 41100, Loss 0.0003449603100307286\n",
      "Epoch 41200, Loss 0.00035083372495137155\n",
      "Epoch 41300, Loss 0.0003304117708466947\n",
      "Epoch 41400, Loss 0.00035424254019744694\n",
      "Epoch 41500, Loss 0.00036327558336779475\n",
      "Epoch 41600, Loss 0.0004391342808958143\n",
      "Epoch 41700, Loss 0.0004580747918225825\n",
      "Epoch 41800, Loss 0.00036917487159371376\n",
      "Epoch 41900, Loss 0.0003868182539008558\n",
      "Epoch 42000, Loss 0.0005448634037747979\n",
      "Epoch 42100, Loss 0.0004316996783018112\n",
      "Epoch 42200, Loss 0.00034040340688079596\n",
      "Epoch 42300, Loss 0.0003466612542979419\n",
      "Epoch 42400, Loss 0.000351278722519055\n",
      "Epoch 42500, Loss 0.00044046397670172155\n",
      "Epoch 42600, Loss 0.0004029093834105879\n",
      "Epoch 42700, Loss 0.0004418109601829201\n",
      "Epoch 42800, Loss 0.0004514394677244127\n",
      "Epoch 42900, Loss 0.00035055523039773107\n",
      "Epoch 43000, Loss 0.0003470676892902702\n",
      "Epoch 43100, Loss 0.00036220127367414534\n",
      "Epoch 43200, Loss 0.00042303488589823246\n",
      "Epoch 43300, Loss 0.0003750565811060369\n",
      "Epoch 43400, Loss 0.0005222902400419116\n",
      "Epoch 43500, Loss 0.00038376281736418605\n",
      "Epoch 43600, Loss 0.0003292965702712536\n",
      "Epoch 43700, Loss 0.0004118948127143085\n",
      "Epoch 43800, Loss 0.00041114864870905876\n",
      "Epoch 43900, Loss 0.000506190990563482\n",
      "Epoch 44000, Loss 0.00041687535122036934\n",
      "Epoch 44100, Loss 0.00032820593332871795\n",
      "Epoch 44200, Loss 0.00040286395233124495\n",
      "Epoch 44300, Loss 0.00040515491855330765\n",
      "Epoch 44400, Loss 0.0005329392733983696\n",
      "Epoch 44500, Loss 0.0003880705626215786\n",
      "Epoch 44600, Loss 0.00033137857099063694\n",
      "Epoch 44700, Loss 0.00043378063128329813\n",
      "Epoch 44800, Loss 0.0003744717687368393\n",
      "Epoch 44900, Loss 0.00039855344220995903\n",
      "Epoch 45000, Loss 0.0003475847188383341\n",
      "Epoch 45100, Loss 0.0004404375213198364\n",
      "Epoch 45200, Loss 0.0004028697148896754\n",
      "Epoch 45300, Loss 0.00042851571924984455\n",
      "Epoch 45400, Loss 0.00032803125213831663\n",
      "Epoch 45500, Loss 0.00042616628343239427\n",
      "Epoch 45600, Loss 0.0003898144350387156\n",
      "Epoch 45700, Loss 0.00034200085792690516\n",
      "Epoch 45800, Loss 0.00038325320929288864\n",
      "Epoch 45900, Loss 0.00037441489985212684\n",
      "Epoch 46000, Loss 0.00039234792347997427\n",
      "Epoch 46100, Loss 0.0003579698968678713\n",
      "Epoch 46200, Loss 0.00040623650420457125\n",
      "Epoch 46300, Loss 0.00041973107727244496\n",
      "Epoch 46400, Loss 0.00035809047403745353\n",
      "Epoch 46500, Loss 0.0003958697780035436\n",
      "Epoch 46600, Loss 0.00038887379923835397\n",
      "Epoch 46700, Loss 0.00037640321534126997\n",
      "Epoch 46800, Loss 0.00037048093508929014\n",
      "Epoch 46900, Loss 0.00034217225038446486\n",
      "Epoch 47000, Loss 0.00040772638749331236\n",
      "Epoch 47100, Loss 0.00041514114127494395\n",
      "Epoch 47200, Loss 0.00032899563666433096\n",
      "Epoch 47300, Loss 0.00039212184492498636\n",
      "Epoch 47400, Loss 0.00037760930717922747\n",
      "Epoch 47500, Loss 0.0004645848530344665\n",
      "Epoch 47600, Loss 0.000418623851146549\n",
      "Epoch 47700, Loss 0.0003966130316257477\n",
      "Epoch 47800, Loss 0.0004152851761318743\n",
      "Epoch 47900, Loss 0.0003558204334694892\n",
      "Epoch 48000, Loss 0.0005161009030416608\n",
      "Epoch 48100, Loss 0.0004846606752835214\n",
      "Epoch 48200, Loss 0.0003827771288342774\n",
      "Epoch 48300, Loss 0.0003831305366475135\n",
      "Epoch 48400, Loss 0.00033136497950181365\n",
      "Epoch 48500, Loss 0.0003887439670506865\n",
      "Epoch 48600, Loss 0.0004418368043843657\n",
      "Epoch 48700, Loss 0.00039045175071805716\n",
      "Epoch 48800, Loss 0.0004087453125976026\n",
      "Epoch 48900, Loss 0.00033312724553979933\n",
      "Epoch 49000, Loss 0.000534065708052367\n",
      "Epoch 49100, Loss 0.0003564461076166481\n",
      "Epoch 49200, Loss 0.0004455184389371425\n",
      "Epoch 49300, Loss 0.0003784814034588635\n",
      "Epoch 49400, Loss 0.0004035876481793821\n",
      "Epoch 49500, Loss 0.0003711639146786183\n",
      "Epoch 49600, Loss 0.00042537174886092544\n",
      "Epoch 49700, Loss 0.0004047681868541986\n",
      "Epoch 49800, Loss 0.00034636256168596447\n",
      "Epoch 49900, Loss 0.00037207978311926126\n",
      "Epoch 50000, Loss 0.0005110303754918277\n",
      "Epoch 50100, Loss 0.0003563270147424191\n",
      "Epoch 50200, Loss 0.00033555144909769297\n",
      "Epoch 50300, Loss 0.0005550823407247663\n",
      "Epoch 50400, Loss 0.0003896295092999935\n",
      "Epoch 50500, Loss 0.0003263138059992343\n",
      "Epoch 50600, Loss 0.0004367335350252688\n",
      "Epoch 50700, Loss 0.00031782587757334113\n",
      "Epoch 50800, Loss 0.0004876246675848961\n",
      "Epoch 50900, Loss 0.00041727395728230476\n",
      "Epoch 51000, Loss 0.000344514031894505\n",
      "Epoch 51100, Loss 0.0004793742555193603\n",
      "Epoch 51200, Loss 0.0003239991783630103\n",
      "Epoch 51300, Loss 0.00032274596742354333\n",
      "Epoch 51400, Loss 0.0003604658122640103\n",
      "Epoch 51500, Loss 0.00031946678063832223\n",
      "Epoch 51600, Loss 0.0003454013494774699\n",
      "Epoch 51700, Loss 0.0003860490396618843\n",
      "Epoch 51800, Loss 0.0005227246438153088\n",
      "Epoch 51900, Loss 0.0003225823456887156\n",
      "Epoch 52000, Loss 0.0004990948946215212\n",
      "Epoch 52100, Loss 0.0003816529060713947\n",
      "Epoch 52200, Loss 0.00040749163599684834\n",
      "Epoch 52300, Loss 0.00045297868200577796\n",
      "Epoch 52400, Loss 0.0003600877244025469\n",
      "Epoch 52500, Loss 0.0003678994835354388\n",
      "Epoch 52600, Loss 0.00036402413388714194\n",
      "Epoch 52700, Loss 0.0003635915636550635\n",
      "Epoch 52800, Loss 0.0003410808858461678\n",
      "Epoch 52900, Loss 0.0004188897437416017\n",
      "Epoch 53000, Loss 0.000361263460945338\n",
      "Epoch 53100, Loss 0.00036868281313218176\n",
      "Epoch 53200, Loss 0.00035822007339447737\n",
      "Epoch 53300, Loss 0.0003286496503278613\n",
      "Epoch 53400, Loss 0.0004222904681228101\n",
      "Epoch 53500, Loss 0.0003499533631838858\n",
      "Epoch 53600, Loss 0.00037003724719397724\n",
      "Epoch 53700, Loss 0.00043675833148881793\n",
      "Epoch 53800, Loss 0.0003876296104863286\n",
      "Epoch 53900, Loss 0.000341350503731519\n",
      "Epoch 54000, Loss 0.00037785465246997774\n",
      "Epoch 54100, Loss 0.00034131770371459424\n",
      "Epoch 54200, Loss 0.00042744807433336973\n",
      "Epoch 54300, Loss 0.0004029630799777806\n",
      "Epoch 54400, Loss 0.00041201160638593137\n",
      "Epoch 54500, Loss 0.0003249114379286766\n",
      "Epoch 54600, Loss 0.00047995118075050414\n",
      "Epoch 54700, Loss 0.00039033807115629315\n",
      "Epoch 54800, Loss 0.00037269596941769123\n",
      "Epoch 54900, Loss 0.0003543985076248646\n",
      "Epoch 55000, Loss 0.0003336472436785698\n",
      "Epoch 55100, Loss 0.00040386716136708856\n",
      "Epoch 55200, Loss 0.0003630654246080667\n",
      "Epoch 55300, Loss 0.00038441381184384227\n",
      "Epoch 55400, Loss 0.0003978468303103\n",
      "Epoch 55500, Loss 0.0004870800767093897\n",
      "Epoch 55600, Loss 0.000329612463247031\n",
      "Epoch 55700, Loss 0.000417914503486827\n",
      "Epoch 55800, Loss 0.00031946253147907555\n",
      "Epoch 55900, Loss 0.00032173990621231496\n",
      "Epoch 56000, Loss 0.0003193275479134172\n",
      "Epoch 56100, Loss 0.0003179277409799397\n",
      "Epoch 56200, Loss 0.0003844368038699031\n",
      "Epoch 56300, Loss 0.00038429105188697577\n",
      "Epoch 56400, Loss 0.0004484111559577286\n",
      "Epoch 56500, Loss 0.0003797969548031688\n",
      "Epoch 56600, Loss 0.0003310356114525348\n",
      "Epoch 56700, Loss 0.00037270961911417544\n",
      "Epoch 56800, Loss 0.0004009502299595624\n",
      "Epoch 56900, Loss 0.0003351416962686926\n",
      "Epoch 57000, Loss 0.0003518527955748141\n",
      "Epoch 57100, Loss 0.00043124693911522627\n",
      "Epoch 57200, Loss 0.0003281598910689354\n",
      "Epoch 57300, Loss 0.0003487359208520502\n",
      "Epoch 57400, Loss 0.00031580700306221843\n",
      "Epoch 57500, Loss 0.00043377288966439664\n",
      "Epoch 57600, Loss 0.00033296263427473605\n",
      "Epoch 57700, Loss 0.0004199379472993314\n",
      "Epoch 57800, Loss 0.0003971320402342826\n",
      "Epoch 57900, Loss 0.000511540041770786\n",
      "Epoch 58000, Loss 0.0003978742170147598\n",
      "Epoch 58100, Loss 0.0003282005782239139\n",
      "Epoch 58200, Loss 0.0004116193449590355\n",
      "Epoch 58300, Loss 0.0003605183446779847\n",
      "Epoch 58400, Loss 0.00047079555224627256\n",
      "Epoch 58500, Loss 0.00036876651574857533\n",
      "Epoch 58600, Loss 0.00038376753218472004\n",
      "Epoch 58700, Loss 0.0003859793650917709\n",
      "Epoch 58800, Loss 0.00037453192635439336\n",
      "Epoch 58900, Loss 0.00033475877717137337\n",
      "Epoch 59000, Loss 0.0004365670320112258\n",
      "Epoch 59100, Loss 0.0003638194175437093\n",
      "Epoch 59200, Loss 0.0005068790633231401\n",
      "Epoch 59300, Loss 0.0005680787144228816\n",
      "Epoch 59400, Loss 0.00047234672820195556\n",
      "Epoch 59500, Loss 0.00033328699646517634\n",
      "Epoch 59600, Loss 0.0003540480975061655\n",
      "Epoch 59700, Loss 0.00031459296587854624\n",
      "Epoch 59800, Loss 0.0004135191848035902\n",
      "Epoch 59900, Loss 0.00036925997119396925\n"
     ]
    }
   ],
   "source": [
    "model_to_loss_and_grad = eqx.filter_value_and_grad(model_to_loss)\n",
    "opt = optax.rmsprop(learning_rate=0.003)\n",
    "key = jax.random.PRNGKey(41)\n",
    "key, subkey = jax.random.split(key, 2)\n",
    "\"\"\"def custom_schedule(step):\n",
    "    # Decrease learning rate as the step increases\n",
    "    return jnp.maximum(0.001, 0.009 * (0.90 ** (step / 10000000)))  # Cap at 0.001\n",
    "\n",
    "opt = optax.chain(\n",
    "    optax.scale_by_adam(),\n",
    "    optax.scale_by_schedule(custom_schedule)\n",
    ")\"\"\"\n",
    "\n",
    "\n",
    "def make_step(m, opt_s, y_s, z_s, t_s):\n",
    "    loss, grad = model_to_loss_and_grad(eqx.filter(m, eqx.is_inexact_array), y_s, z_s, t_s)\n",
    "    updates, opt_s = opt.update(grad, opt_s, m)\n",
    "    m = eqx.apply_updates(m, updates)\n",
    "    return m, opt_s, loss\n",
    "\n",
    "loss_history = []\n",
    "MODEL = LinearFunction(subkey)\n",
    "best_loss = float('inf')\n",
    "opt_state = opt.init(eqx.filter(MODEL, eqx.is_array))\n",
    "for epoch in range(60000):\n",
    "    MODEL, opt_state, loss = make_step(MODEL, opt_state, energies, z_s, time)\n",
    "    loss_history.append(loss)\n",
    "\n",
    "    \n",
    "    if loss < best_loss:\n",
    "        best_loss = loss\n",
    "        best_weights = eqx.tree_serialise_leaves(\"best_model.eqx\", MODEL)\n",
    "    \n",
    "    if epoch % 100 == 0:  # Log every 100 epochs\n",
    "        print(f\"Epoch {epoch}, Loss {loss}\")\n"
   ]
  },
  {
   "cell_type": "code",
   "execution_count": 176,
   "metadata": {},
   "outputs": [
    {
     "data": {
      "text/plain": [
       "Array(0.00030661, dtype=float32)"
      ]
     },
     "execution_count": 176,
     "metadata": {},
     "output_type": "execute_result"
    }
   ],
   "source": [
    "min(loss_history)"
   ]
  },
  {
   "cell_type": "markdown",
   "metadata": {},
   "source": []
  },
  {
   "cell_type": "code",
   "execution_count": 177,
   "metadata": {},
   "outputs": [
    {
     "data": {
      "text/plain": [
       "Array([-0.09970997, -0.09870987, -0.09770977, ...,  6.9979997 ,\n",
       "        6.999     ,  7.        ], dtype=float32)"
      ]
     },
     "execution_count": 177,
     "metadata": {},
     "output_type": "execute_result"
    }
   ],
   "source": [
    "time"
   ]
  },
  {
   "cell_type": "code",
   "execution_count": 178,
   "metadata": {},
   "outputs": [
    {
     "data": {
      "image/png": "[encoded data removed]",
      "text/plain": [
       "<Figure size 640x480 with 1 Axes>"
      ]
     },
     "metadata": {},
     "output_type": "display_data"
    }
   ],
   "source": [
    "plt.plot(loss_history)\n",
    "plt.yscale('log')"
   ]
  },
  {
   "cell_type": "code",
   "execution_count": 179,
   "metadata": {},
   "outputs": [
    {
     "name": "stderr",
     "output_type": "stream",
     "text": [
      "/var/folders/wr/p4g_vhcn34g6101bsy9rmsd40000gn/T/ipykernel_10127/1626643505.py:7: UserWarning: Explicitly requested dtype <class 'jax.numpy.float64'> requested in array is not available, and will be truncated to dtype float32. To enable more dtypes, set the jax_enable_x64 configuration option or the JAX_ENABLE_X64 shell environment variable. See https://github.com/jax-ml/jax#current-gotchas for more.\n",
      "  y0=jnp.array(vars, dtype=jnp.float64),\n"
     ]
    },
    {
     "data": {
      "text/plain": [
       "Array([0.        , 0.0061738 , 0.01234545, ..., 0.01184401, 0.01185805,\n",
       "       0.01187202], dtype=float32)"
      ]
     },
     "execution_count": 179,
     "metadata": {},
     "output_type": "execute_result"
    }
   ],
   "source": [
    "solutions = diffrax.diffeqsolve(\n",
    "        diffrax.ODETerm(MODEL),\n",
    "        diffrax.Tsit5(),\n",
    "        t0=float(time[0]),\n",
    "        t1=float(time[-1]),\n",
    "        dt0=0.01,\n",
    "        y0=jnp.array(vars, dtype=jnp.float64),  \n",
    "        stepsize_controller=diffrax.PIDController(rtol=1e-5, atol=1e-6),\n",
    "        saveat=diffrax.SaveAt(ts=jnp.sort(time)),\n",
    "    )\n",
    "solutions.ys[:, 0]\n"
   ]
  },
  {
   "cell_type": "code",
   "execution_count": 180,
   "metadata": {},
   "outputs": [
    {
     "data": {
      "text/plain": [
       "Array(0.00030661, dtype=float32)"
      ]
     },
     "execution_count": 180,
     "metadata": {},
     "output_type": "execute_result"
    }
   ],
   "source": [
    "min(loss_history)"
   ]
  },
  {
   "cell_type": "code",
   "execution_count": 181,
   "metadata": {},
   "outputs": [
    {
     "data": {
      "text/plain": [
       "<matplotlib.legend.Legend at 0x175c95850>"
      ]
     },
     "execution_count": 181,
     "metadata": {},
     "output_type": "execute_result"
    },
    {
     "data": {
      "image/png": "[encoded data removed]",
      "text/plain": [
       "<Figure size 640x480 with 1 Axes>"
      ]
     },
     "metadata": {},
     "output_type": "display_data"
    }
   ],
   "source": [
    "plt.plot(time, energies, label = \"pulse\")\n",
    "\n",
    "plt.plot(time, solutions.ys[:, 0], label = \"NeuralODE\")\n",
    "#plt.plot(time, energies-solutions.ys[:, 0])\n",
    "\n",
    "plt.legend()\n"
   ]
  },
  {
   "cell_type": "code",
   "execution_count": 182,
   "metadata": {},
   "outputs": [
    {
     "data": {
      "text/plain": [
       "<matplotlib.legend.Legend at 0x1755a7390>"
      ]
     },
     "execution_count": 182,
     "metadata": {},
     "output_type": "execute_result"
    },
    {
     "data": {
      "image/png": "[encoded data removed]",
      "text/plain": [
       "<Figure size 640x480 with 1 Axes>"
      ]
     },
     "metadata": {},
     "output_type": "display_data"
    }
   ],
   "source": [
    "plt.plot(time, energies, label = \"pulse\")\n",
    "plt.plot(time, solutions.ys[:, 0], label = \"NeuralODE\")\n",
    "#plt.plot(time, energies-solutions.ys[:, 0])\n",
    "plt.xlim(0.05, 0.11)\n",
    "plt.legend()"
   ]
  },
  {
   "cell_type": "code",
   "execution_count": 183,
   "metadata": {},
   "outputs": [
    {
     "data": {
      "text/plain": [
       "<matplotlib.legend.Legend at 0x176b1af90>"
      ]
     },
     "execution_count": 183,
     "metadata": {},
     "output_type": "execute_result"
    },
    {
     "data": {
      "image/png": "[encoded data removed]",
      "text/plain": [
       "<Figure size 640x480 with 1 Axes>"
      ]
     },
     "metadata": {},
     "output_type": "display_data"
    }
   ],
   "source": [
    "plt.plot(time, solutions.ys[:, 0], label = \"0\")\n",
    "plt.plot(time, solutions.ys[:, 1], label = \"1\")\n",
    "plt.plot(time, solutions.ys[:, 2], label = \"2\")\n",
    "\n",
    "\n",
    "plt.legend()"
   ]
  },
  {
   "cell_type": "code",
   "execution_count": 184,
   "metadata": {},
   "outputs": [
    {
     "data": {
      "text/plain": [
       "(-0.1, 10.0)"
      ]
     },
     "execution_count": 184,
     "metadata": {},
     "output_type": "execute_result"
    },
    {
     "data": {
      "image/png": "[encoded data removed]",
      "text/plain": [
       "<Figure size 640x480 with 1 Axes>"
      ]
     },
     "metadata": {},
     "output_type": "display_data"
    }
   ],
   "source": [
    "plt.plot(time, energies)\n",
    "plt.xlim(-0.1, 10)"
   ]
  },
  {
   "cell_type": "code",
   "execution_count": 39,
   "metadata": {},
   "outputs": [
    {
     "data": {
      "text/plain": [
       "(4, 5)"
      ]
     },
     "execution_count": 39,
     "metadata": {},
     "output_type": "execute_result"
    }
   ],
   "source": [
    "x = np.random.rand(4, 5)\n",
    "x.shape"
   ]
  }
 ],
 "metadata": {
  "kernelspec": {
   "display_name": "CUORE",
   "language": "python",
   "name": "python3"
  },
  "language_info": {
   "codemirror_mode": {
    "name": "ipython",
    "version": 3
   },
   "file_extension": ".py",
   "mimetype": "text/x-python",
   "name": "python",
   "nbconvert_exporter": "python",
   "pygments_lexer": "ipython3",
   "version": "3.11.10"
  }
 },
 "nbformat": 4,
 "nbformat_minor": 2
}
