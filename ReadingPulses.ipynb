{
 "cells": [
  {
   "cell_type": "code",
   "execution_count": 1,
   "metadata": {},
   "outputs": [],
   "source": [
    "import numpy as np\n",
    "import matplotlib.pyplot as plt\n",
    "import pandas as pd\n",
    "import uproot as up"
   ]
  },
  {
   "cell_type": "code",
   "execution_count": 2,
   "metadata": {},
   "outputs": [],
   "source": [
    "tower2p1_events=pd.read_csv(\"pulse_out/Tower2p1_event_info.csv\") #contains reconstruction information\n",
    "pulses_tower2p1=up.concatenate([\"pulse_out/Run352044_tower2p1.root:tree\"],library='np')['samples'] #pulses\n",
    "event_nums_tower2p1=up.concatenate([\"pulse_out/Run352044_tower2p1.root:tree\"],library='np')['event_number'] #event numbers to connect pulses to reconstruction info\n",
    "\n",
    "ADC2mV=8.0108642578125e-02 ##this number should be checked with up-to-date front end board readings, but is fine for now"
   ]
  },
  {
   "cell_type": "code",
   "execution_count": 3,
   "metadata": {},
   "outputs": [
    {
     "data": {
      "text/html": [
       "<div>\n",
       "<style scoped>\n",
       "    .dataframe tbody tr th:only-of-type {\n",
       "        vertical-align: middle;\n",
       "    }\n",
       "\n",
       "    .dataframe tbody tr th {\n",
       "        vertical-align: top;\n",
       "    }\n",
       "\n",
       "    .dataframe thead th {\n",
       "        text-align: right;\n",
       "    }\n",
       "</style>\n",
       "<table border=\"1\" class=\"dataframe\">\n",
       "  <thead>\n",
       "    <tr style=\"text-align: right;\">\n",
       "      <th></th>\n",
       "      <th>Channel</th>\n",
       "      <th>Time</th>\n",
       "      <th>CoincTime</th>\n",
       "      <th>NumPulses</th>\n",
       "      <th>OFdelay</th>\n",
       "      <th>OFChi2</th>\n",
       "      <th>Energy</th>\n",
       "      <th>Baseline</th>\n",
       "      <th>MaxToBaseline</th>\n",
       "      <th>Run</th>\n",
       "      <th>PCANorm</th>\n",
       "      <th>event_number</th>\n",
       "      <th>BaselineSlope</th>\n",
       "      <th>SingleTrigger</th>\n",
       "    </tr>\n",
       "  </thead>\n",
       "  <tbody>\n",
       "    <tr>\n",
       "      <th>0</th>\n",
       "      <td>54</td>\n",
       "      <td>1018.808</td>\n",
       "      <td>1015.720415</td>\n",
       "      <td>1</td>\n",
       "      <td>3.119665</td>\n",
       "      <td>3.511851</td>\n",
       "      <td>2617.897933</td>\n",
       "      <td>-5949.946025</td>\n",
       "      <td>1135.256388</td>\n",
       "      <td>352044</td>\n",
       "      <td>4.796232</td>\n",
       "      <td>81146</td>\n",
       "      <td>-0.004776</td>\n",
       "      <td>False</td>\n",
       "    </tr>\n",
       "    <tr>\n",
       "      <th>1</th>\n",
       "      <td>53</td>\n",
       "      <td>1029.120</td>\n",
       "      <td>1026.040443</td>\n",
       "      <td>1</td>\n",
       "      <td>3.119646</td>\n",
       "      <td>959.445237</td>\n",
       "      <td>1291.883245</td>\n",
       "      <td>-3041.182805</td>\n",
       "      <td>616.774846</td>\n",
       "      <td>352044</td>\n",
       "      <td>16.963644</td>\n",
       "      <td>81911</td>\n",
       "      <td>-0.000647</td>\n",
       "      <td>True</td>\n",
       "    </tr>\n",
       "    <tr>\n",
       "      <th>2</th>\n",
       "      <td>58</td>\n",
       "      <td>1056.312</td>\n",
       "      <td>1053.235369</td>\n",
       "      <td>1</td>\n",
       "      <td>3.086841</td>\n",
       "      <td>10.635230</td>\n",
       "      <td>2600.413432</td>\n",
       "      <td>-3019.474859</td>\n",
       "      <td>1154.465551</td>\n",
       "      <td>352044</td>\n",
       "      <td>14.263034</td>\n",
       "      <td>84090</td>\n",
       "      <td>-0.004409</td>\n",
       "      <td>True</td>\n",
       "    </tr>\n",
       "    <tr>\n",
       "      <th>3</th>\n",
       "      <td>55</td>\n",
       "      <td>1060.072</td>\n",
       "      <td>1057.011309</td>\n",
       "      <td>1</td>\n",
       "      <td>3.070154</td>\n",
       "      <td>0.177860</td>\n",
       "      <td>737.921289</td>\n",
       "      <td>-3309.880651</td>\n",
       "      <td>198.861516</td>\n",
       "      <td>352044</td>\n",
       "      <td>10.408411</td>\n",
       "      <td>84367</td>\n",
       "      <td>-0.002333</td>\n",
       "      <td>True</td>\n",
       "    </tr>\n",
       "    <tr>\n",
       "      <th>4</th>\n",
       "      <td>56</td>\n",
       "      <td>1067.584</td>\n",
       "      <td>1064.502041</td>\n",
       "      <td>1</td>\n",
       "      <td>3.122515</td>\n",
       "      <td>1.473148</td>\n",
       "      <td>1424.047190</td>\n",
       "      <td>-2917.889409</td>\n",
       "      <td>584.885412</td>\n",
       "      <td>352044</td>\n",
       "      <td>1.821491</td>\n",
       "      <td>85011</td>\n",
       "      <td>-0.000906</td>\n",
       "      <td>True</td>\n",
       "    </tr>\n",
       "    <tr>\n",
       "      <th>...</th>\n",
       "      <td>...</td>\n",
       "      <td>...</td>\n",
       "      <td>...</td>\n",
       "      <td>...</td>\n",
       "      <td>...</td>\n",
       "      <td>...</td>\n",
       "      <td>...</td>\n",
       "      <td>...</td>\n",
       "      <td>...</td>\n",
       "      <td>...</td>\n",
       "      <td>...</td>\n",
       "      <td>...</td>\n",
       "      <td>...</td>\n",
       "      <td>...</td>\n",
       "    </tr>\n",
       "    <tr>\n",
       "      <th>24858</th>\n",
       "      <td>59</td>\n",
       "      <td>128172.264</td>\n",
       "      <td>128169.191868</td>\n",
       "      <td>1</td>\n",
       "      <td>3.090579</td>\n",
       "      <td>8.643130</td>\n",
       "      <td>2336.963051</td>\n",
       "      <td>-4723.471242</td>\n",
       "      <td>1099.356252</td>\n",
       "      <td>352044</td>\n",
       "      <td>11.374310</td>\n",
       "      <td>10152655</td>\n",
       "      <td>-0.002778</td>\n",
       "      <td>True</td>\n",
       "    </tr>\n",
       "    <tr>\n",
       "      <th>24859</th>\n",
       "      <td>64</td>\n",
       "      <td>128188.112</td>\n",
       "      <td>128185.029504</td>\n",
       "      <td>1</td>\n",
       "      <td>3.123739</td>\n",
       "      <td>0.686072</td>\n",
       "      <td>825.788777</td>\n",
       "      <td>-6597.101735</td>\n",
       "      <td>357.279348</td>\n",
       "      <td>352044</td>\n",
       "      <td>-0.920750</td>\n",
       "      <td>10153787</td>\n",
       "      <td>-0.002088</td>\n",
       "      <td>True</td>\n",
       "    </tr>\n",
       "    <tr>\n",
       "      <th>24860</th>\n",
       "      <td>62</td>\n",
       "      <td>128193.784</td>\n",
       "      <td>128190.698521</td>\n",
       "      <td>1</td>\n",
       "      <td>3.115107</td>\n",
       "      <td>1.280897</td>\n",
       "      <td>1114.787370</td>\n",
       "      <td>-3414.805634</td>\n",
       "      <td>669.562561</td>\n",
       "      <td>352044</td>\n",
       "      <td>-0.708036</td>\n",
       "      <td>10154324</td>\n",
       "      <td>-0.001870</td>\n",
       "      <td>True</td>\n",
       "    </tr>\n",
       "    <tr>\n",
       "      <th>24861</th>\n",
       "      <td>61</td>\n",
       "      <td>128194.640</td>\n",
       "      <td>128191.566482</td>\n",
       "      <td>1</td>\n",
       "      <td>3.092249</td>\n",
       "      <td>2.601401</td>\n",
       "      <td>662.462041</td>\n",
       "      <td>-4403.333359</td>\n",
       "      <td>308.580093</td>\n",
       "      <td>352044</td>\n",
       "      <td>-0.435548</td>\n",
       "      <td>10154390</td>\n",
       "      <td>-0.000717</td>\n",
       "      <td>True</td>\n",
       "    </tr>\n",
       "    <tr>\n",
       "      <th>24862</th>\n",
       "      <td>53</td>\n",
       "      <td>128197.912</td>\n",
       "      <td>128194.827396</td>\n",
       "      <td>1</td>\n",
       "      <td>3.114600</td>\n",
       "      <td>1.844734</td>\n",
       "      <td>617.808418</td>\n",
       "      <td>-3150.776449</td>\n",
       "      <td>271.992269</td>\n",
       "      <td>352044</td>\n",
       "      <td>18.848382</td>\n",
       "      <td>10154613</td>\n",
       "      <td>-0.011195</td>\n",
       "      <td>True</td>\n",
       "    </tr>\n",
       "  </tbody>\n",
       "</table>\n",
       "<p>24863 rows × 14 columns</p>\n",
       "</div>"
      ],
      "text/plain": [
       "       Channel        Time      CoincTime  NumPulses   OFdelay      OFChi2  \\\n",
       "0           54    1018.808    1015.720415          1  3.119665    3.511851   \n",
       "1           53    1029.120    1026.040443          1  3.119646  959.445237   \n",
       "2           58    1056.312    1053.235369          1  3.086841   10.635230   \n",
       "3           55    1060.072    1057.011309          1  3.070154    0.177860   \n",
       "4           56    1067.584    1064.502041          1  3.122515    1.473148   \n",
       "...        ...         ...            ...        ...       ...         ...   \n",
       "24858       59  128172.264  128169.191868          1  3.090579    8.643130   \n",
       "24859       64  128188.112  128185.029504          1  3.123739    0.686072   \n",
       "24860       62  128193.784  128190.698521          1  3.115107    1.280897   \n",
       "24861       61  128194.640  128191.566482          1  3.092249    2.601401   \n",
       "24862       53  128197.912  128194.827396          1  3.114600    1.844734   \n",
       "\n",
       "            Energy     Baseline  MaxToBaseline     Run    PCANorm  \\\n",
       "0      2617.897933 -5949.946025    1135.256388  352044   4.796232   \n",
       "1      1291.883245 -3041.182805     616.774846  352044  16.963644   \n",
       "2      2600.413432 -3019.474859    1154.465551  352044  14.263034   \n",
       "3       737.921289 -3309.880651     198.861516  352044  10.408411   \n",
       "4      1424.047190 -2917.889409     584.885412  352044   1.821491   \n",
       "...            ...          ...            ...     ...        ...   \n",
       "24858  2336.963051 -4723.471242    1099.356252  352044  11.374310   \n",
       "24859   825.788777 -6597.101735     357.279348  352044  -0.920750   \n",
       "24860  1114.787370 -3414.805634     669.562561  352044  -0.708036   \n",
       "24861   662.462041 -4403.333359     308.580093  352044  -0.435548   \n",
       "24862   617.808418 -3150.776449     271.992269  352044  18.848382   \n",
       "\n",
       "       event_number  BaselineSlope  SingleTrigger  \n",
       "0             81146      -0.004776          False  \n",
       "1             81911      -0.000647           True  \n",
       "2             84090      -0.004409           True  \n",
       "3             84367      -0.002333           True  \n",
       "4             85011      -0.000906           True  \n",
       "...             ...            ...            ...  \n",
       "24858      10152655      -0.002778           True  \n",
       "24859      10153787      -0.002088           True  \n",
       "24860      10154324      -0.001870           True  \n",
       "24861      10154390      -0.000717           True  \n",
       "24862      10154613      -0.011195           True  \n",
       "\n",
       "[24863 rows x 14 columns]"
      ]
     },
     "execution_count": 3,
     "metadata": {},
     "output_type": "execute_result"
    }
   ],
   "source": [
    "tower2p1_events"
   ]
  },
  {
   "cell_type": "code",
   "execution_count": 4,
   "metadata": {},
   "outputs": [
    {
     "data": {
      "text/plain": [
       "array([54, 53, 58, 55, 56, 62, 61, 65, 64, 57, 60, 59, 63])"
      ]
     },
     "execution_count": 4,
     "metadata": {},
     "output_type": "execute_result"
    }
   ],
   "source": [
    "tower2p1_events[\"Channel\"].unique()"
   ]
  },
  {
   "cell_type": "code",
   "execution_count": 5,
   "metadata": {},
   "outputs": [],
   "source": [
    "CHANNEL=60 #hard-coding this for now..."
   ]
  },
  {
   "cell_type": "code",
   "execution_count": 6,
   "metadata": {},
   "outputs": [],
   "source": [
    "file=open(\"average_pulse_dump/Channel00\"+str(CHANNEL)+\"_AveragePulse.txt\")\n",
    "for line in file:\n",
    "    parse=line.replace(\"fData  \",\"\")\n",
    "    parse=parse.replace(\"\\n\",\"\")\n",
    "    splits=parse.split(\" \")\n",
    "    avg_pulse=np.array(splits,dtype=float)\n",
    "    break\n",
    "\n",
    "cleaned_avg_pulse=(avg_pulse-np.mean(avg_pulse[0:50]))/np.max(avg_pulse-np.mean(avg_pulse[0:50]))"
   ]
  },
  {
   "cell_type": "code",
   "execution_count": 7,
   "metadata": {},
   "outputs": [
    {
     "data": {
      "text/plain": [
       "Text(0, 0.5, 'Pulse Amplitude: Correlates to E')"
      ]
     },
     "execution_count": 7,
     "metadata": {},
     "output_type": "execute_result"
    },
    {
     "data": {
      "image/png": "[encoded data removed]",
      "text/plain": [
       "<Figure size 640x480 with 1 Axes>"
      ]
     },
     "metadata": {},
     "output_type": "display_data"
    }
   ],
   "source": [
    "#check out what normalized average pulse for channel 60 is\n",
    "\n",
    "fully_sampled_times=np.linspace(-3,7,10000) #seconds\n",
    "\n",
    "plt.plot(fully_sampled_times,cleaned_avg_pulse)\n",
    "\n",
    "plt.xlabel(\"Time (s)\")\n",
    "plt.ylabel(\"Pulse Amplitude: Correlates to E\")"
   ]
  },
  {
   "cell_type": "code",
   "execution_count": 8,
   "metadata": {},
   "outputs": [],
   "source": [
    "THIS_PULSE=8272 #pulse we'll focus on, to get nODE working"
   ]
  },
  {
   "cell_type": "code",
   "execution_count": 9,
   "metadata": {},
   "outputs": [
    {
     "data": {
      "text/html": [
       "<div>\n",
       "<style scoped>\n",
       "    .dataframe tbody tr th:only-of-type {\n",
       "        vertical-align: middle;\n",
       "    }\n",
       "\n",
       "    .dataframe tbody tr th {\n",
       "        vertical-align: top;\n",
       "    }\n",
       "\n",
       "    .dataframe thead th {\n",
       "        text-align: right;\n",
       "    }\n",
       "</style>\n",
       "<table border=\"1\" class=\"dataframe\">\n",
       "  <thead>\n",
       "    <tr style=\"text-align: right;\">\n",
       "      <th></th>\n",
       "      <th>Channel</th>\n",
       "      <th>Time</th>\n",
       "      <th>CoincTime</th>\n",
       "      <th>NumPulses</th>\n",
       "      <th>OFdelay</th>\n",
       "      <th>OFChi2</th>\n",
       "      <th>Energy</th>\n",
       "      <th>Baseline</th>\n",
       "      <th>MaxToBaseline</th>\n",
       "      <th>Run</th>\n",
       "      <th>PCANorm</th>\n",
       "      <th>event_number</th>\n",
       "      <th>BaselineSlope</th>\n",
       "      <th>SingleTrigger</th>\n",
       "    </tr>\n",
       "  </thead>\n",
       "  <tbody>\n",
       "    <tr>\n",
       "      <th>8272</th>\n",
       "      <td>60</td>\n",
       "      <td>43488.616</td>\n",
       "      <td>43485.538606</td>\n",
       "      <td>1</td>\n",
       "      <td>3.079257</td>\n",
       "      <td>4.561317</td>\n",
       "      <td>1123.404947</td>\n",
       "      <td>-4594.086314</td>\n",
       "      <td>390.785838</td>\n",
       "      <td>352044</td>\n",
       "      <td>0.430006</td>\n",
       "      <td>3448536</td>\n",
       "      <td>0.001447</td>\n",
       "      <td>True</td>\n",
       "    </tr>\n",
       "  </tbody>\n",
       "</table>\n",
       "</div>"
      ],
      "text/plain": [
       "      Channel       Time     CoincTime  NumPulses   OFdelay    OFChi2  \\\n",
       "8272       60  43488.616  43485.538606          1  3.079257  4.561317   \n",
       "\n",
       "           Energy     Baseline  MaxToBaseline     Run   PCANorm  event_number  \\\n",
       "8272  1123.404947 -4594.086314     390.785838  352044  0.430006       3448536   \n",
       "\n",
       "      BaselineSlope  SingleTrigger  \n",
       "8272       0.001447           True  "
      ]
     },
     "execution_count": 9,
     "metadata": {},
     "output_type": "execute_result"
    }
   ],
   "source": [
    "#check info on it...\n",
    "\n",
    "#how to pass back & forth between event number & pulse id...\n",
    "tower2p1_events[tower2p1_events['event_number']==event_nums_tower2p1[THIS_PULSE]]"
   ]
  },
  {
   "cell_type": "code",
   "execution_count": 10,
   "metadata": {},
   "outputs": [],
   "source": [
    "THIS_ENERGY=tower2p1_events[tower2p1_events['event_number']==event_nums_tower2p1[THIS_PULSE]].iloc[0]['Energy']"
   ]
  },
  {
   "cell_type": "code",
   "execution_count": 11,
   "metadata": {},
   "outputs": [
    {
     "name": "stdout",
     "output_type": "stream",
     "text": [
      "1123.4049474985482  keV\n"
     ]
    },
    {
     "data": {
      "image/png": "[encoded data removed]",
      "text/plain": [
       "<Figure size 640x480 with 1 Axes>"
      ]
     },
     "metadata": {},
     "output_type": "display_data"
    }
   ],
   "source": [
    "plt.plot(np.linspace(-3,7,10000),ADC2mV*pulses_tower2p1[THIS_PULSE])\n",
    "\n",
    "plt.xlabel(\"Time (s)\")\n",
    "plt.ylabel(\"Pulse Voltage (mV)\")\n",
    "\n",
    "print(THIS_ENERGY, \" keV\")"
   ]
  },
  {
   "cell_type": "code",
   "execution_count": 12,
   "metadata": {},
   "outputs": [
    {
     "data": {
      "text/plain": [
       "array([[-74182, -74180, -74182, ..., -74286, -74289, -74289],\n",
       "       [-37945, -37953, -37955, ..., -37966, -37958, -37950],\n",
       "       [-37614, -37620, -37625, ..., -37743, -37740, -37736],\n",
       "       ...,\n",
       "       [-42675, -42675, -42678, ..., -42637, -42637, -42637],\n",
       "       [-54926, -54922, -54917, ..., -54976, -54986, -54995],\n",
       "       [-39121, -39119, -39126, ..., -39519, -39522, -39521]], dtype=int32)"
      ]
     },
     "execution_count": 12,
     "metadata": {},
     "output_type": "execute_result"
    }
   ],
   "source": [
    "pulses_tower2p1"
   ]
  },
  {
   "cell_type": "code",
   "execution_count": 13,
   "metadata": {},
   "outputs": [
    {
     "name": "stdout",
     "output_type": "stream",
     "text": [
      "1123.4049474985482  keV\n"
     ]
    },
    {
     "data": {
      "text/plain": [
       "(-0.1, 0.1)"
      ]
     },
     "execution_count": 13,
     "metadata": {},
     "output_type": "execute_result"
    },
    {
     "data": {
      "image/png": "[encoded data removed]",
      "text/plain": [
       "<Figure size 640x480 with 1 Axes>"
      ]
     },
     "metadata": {},
     "output_type": "display_data"
    }
   ],
   "source": [
    "plt.plot(np.linspace(-3,7,10000),ADC2mV*pulses_tower2p1[THIS_PULSE])\n",
    "\n",
    "plt.xlabel(\"Time (s)\")\n",
    "plt.ylabel(\"Pulse Voltage (mV)\")\n",
    "\n",
    "print(THIS_ENERGY, \" keV\")\n",
    "\n",
    "plt.xlim([-0.1,0.1])"
   ]
  },
  {
   "cell_type": "code",
   "execution_count": 14,
   "metadata": {},
   "outputs": [],
   "source": [
    "### feel free to normalize the pulse, e.g. correct for the baseline offset, and make overall amplitude ~0.5\n",
    "\n",
    "###can start by setting initial condition at time 0, but we should think about how to fine-tune for small time offsets:\n",
    "### could be grid-search, add differentiable parameter\n",
    "# this will also be easier when we move beyond 1 pulse to fitting many pulses simulatenously\n",
    "\n",
    "#initial conditions: should be (0, Energy, 0)\n",
    "#                               ^    ^     ^\n",
    "#                               |    |     |\n",
    "#                               |    |     \\- this variable is an extra with no clear interpretation, but can assist in modelling\n",
    "#                               |    \\- this variable models the energy: has initial condition from calibration\n",
    "#                               \\- this variable models the observed pulse, and is the only one entering into the loss\n",
    "#start off with just our usual MSE-loss between predicted and observed"
   ]
  },
  {
   "cell_type": "code",
   "execution_count": 15,
   "metadata": {},
   "outputs": [
    {
     "data": {
      "text/plain": [
       "[<matplotlib.lines.Line2D at 0x1228ad0d0>]"
      ]
     },
     "execution_count": 15,
     "metadata": {},
     "output_type": "execute_result"
    },
    {
     "data": {
      "image/png": "[encoded data removed]",
      "text/plain": [
       "<Figure size 640x480 with 1 Axes>"
      ]
     },
     "metadata": {},
     "output_type": "display_data"
    }
   ],
   "source": [
    "fully_sampled_times=np.linspace(-3,7,10000) #seconds\n",
    "\n",
    "plt.plot(fully_sampled_times,cleaned_avg_pulse)"
   ]
  },
  {
   "cell_type": "code",
   "execution_count": 16,
   "metadata": {},
   "outputs": [],
   "source": [
    "ch60_pulses=pulses_tower2p1[tower2p1_events['Channel']==60]\n",
    "ch60_events=tower2p1_events[tower2p1_events['Channel']==60]"
   ]
  },
  {
   "cell_type": "code",
   "execution_count": 17,
   "metadata": {},
   "outputs": [
    {
     "data": {
      "text/plain": [
       "array([[-56155, -56158, -56162, ..., -56091, -56096, -56096],\n",
       "       [-56197, -56200, -56200, ..., -56118, -56116, -56113],\n",
       "       [-56126, -56119, -56107, ..., -56180, -56182, -56189],\n",
       "       ...,\n",
       "       [-57643, -57648, -57653, ..., -57580, -57581, -57590],\n",
       "       [-57596, -57592, -57587, ..., -57574, -57576, -57579],\n",
       "       [-57344, -57353, -57361, ..., -57339, -57343, -57343]], dtype=int32)"
      ]
     },
     "execution_count": 17,
     "metadata": {},
     "output_type": "execute_result"
    }
   ],
   "source": [
    "ch60_pulses"
   ]
  },
  {
   "cell_type": "code",
   "execution_count": 18,
   "metadata": {},
   "outputs": [
    {
     "data": {
      "text/html": [
       "<div>\n",
       "<style scoped>\n",
       "    .dataframe tbody tr th:only-of-type {\n",
       "        vertical-align: middle;\n",
       "    }\n",
       "\n",
       "    .dataframe tbody tr th {\n",
       "        vertical-align: top;\n",
       "    }\n",
       "\n",
       "    .dataframe thead th {\n",
       "        text-align: right;\n",
       "    }\n",
       "</style>\n",
       "<table border=\"1\" class=\"dataframe\">\n",
       "  <thead>\n",
       "    <tr style=\"text-align: right;\">\n",
       "      <th></th>\n",
       "      <th>Channel</th>\n",
       "      <th>Time</th>\n",
       "      <th>CoincTime</th>\n",
       "      <th>NumPulses</th>\n",
       "      <th>OFdelay</th>\n",
       "      <th>OFChi2</th>\n",
       "      <th>Energy</th>\n",
       "      <th>Baseline</th>\n",
       "      <th>MaxToBaseline</th>\n",
       "      <th>Run</th>\n",
       "      <th>PCANorm</th>\n",
       "      <th>event_number</th>\n",
       "      <th>BaselineSlope</th>\n",
       "      <th>SingleTrigger</th>\n",
       "    </tr>\n",
       "  </thead>\n",
       "  <tbody>\n",
       "    <tr>\n",
       "      <th>19</th>\n",
       "      <td>60</td>\n",
       "      <td>1139.608</td>\n",
       "      <td>1136.529986</td>\n",
       "      <td>1</td>\n",
       "      <td>3.078637</td>\n",
       "      <td>2.984120</td>\n",
       "      <td>1043.190614</td>\n",
       "      <td>-4498.994934</td>\n",
       "      <td>360.822784</td>\n",
       "      <td>352044</td>\n",
       "      <td>1.191920</td>\n",
       "      <td>90694</td>\n",
       "      <td>0.000248</td>\n",
       "      <td>True</td>\n",
       "    </tr>\n",
       "    <tr>\n",
       "      <th>32</th>\n",
       "      <td>60</td>\n",
       "      <td>1192.016</td>\n",
       "      <td>1188.940325</td>\n",
       "      <td>1</td>\n",
       "      <td>3.080976</td>\n",
       "      <td>1.683988</td>\n",
       "      <td>876.107679</td>\n",
       "      <td>-4501.017446</td>\n",
       "      <td>305.327291</td>\n",
       "      <td>352044</td>\n",
       "      <td>-0.954280</td>\n",
       "      <td>94879</td>\n",
       "      <td>0.000375</td>\n",
       "      <td>True</td>\n",
       "    </tr>\n",
       "    <tr>\n",
       "      <th>35</th>\n",
       "      <td>60</td>\n",
       "      <td>1199.696</td>\n",
       "      <td>1196.621604</td>\n",
       "      <td>1</td>\n",
       "      <td>3.082255</td>\n",
       "      <td>0.893486</td>\n",
       "      <td>509.070367</td>\n",
       "      <td>-4495.206223</td>\n",
       "      <td>172.784195</td>\n",
       "      <td>352044</td>\n",
       "      <td>7.949973</td>\n",
       "      <td>95525</td>\n",
       "      <td>-0.002434</td>\n",
       "      <td>True</td>\n",
       "    </tr>\n",
       "    <tr>\n",
       "      <th>41</th>\n",
       "      <td>60</td>\n",
       "      <td>1262.528</td>\n",
       "      <td>1259.456059</td>\n",
       "      <td>1</td>\n",
       "      <td>3.084710</td>\n",
       "      <td>4.056065</td>\n",
       "      <td>1476.215868</td>\n",
       "      <td>-4488.077835</td>\n",
       "      <td>498.827652</td>\n",
       "      <td>352044</td>\n",
       "      <td>19.140515</td>\n",
       "      <td>100475</td>\n",
       "      <td>-0.006717</td>\n",
       "      <td>True</td>\n",
       "    </tr>\n",
       "    <tr>\n",
       "      <th>74</th>\n",
       "      <td>60</td>\n",
       "      <td>1464.832</td>\n",
       "      <td>1461.759936</td>\n",
       "      <td>1</td>\n",
       "      <td>3.084587</td>\n",
       "      <td>0.485655</td>\n",
       "      <td>574.841460</td>\n",
       "      <td>-4511.481130</td>\n",
       "      <td>198.672139</td>\n",
       "      <td>352044</td>\n",
       "      <td>2.637790</td>\n",
       "      <td>116781</td>\n",
       "      <td>0.000295</td>\n",
       "      <td>True</td>\n",
       "    </tr>\n",
       "    <tr>\n",
       "      <th>...</th>\n",
       "      <td>...</td>\n",
       "      <td>...</td>\n",
       "      <td>...</td>\n",
       "      <td>...</td>\n",
       "      <td>...</td>\n",
       "      <td>...</td>\n",
       "      <td>...</td>\n",
       "      <td>...</td>\n",
       "      <td>...</td>\n",
       "      <td>...</td>\n",
       "      <td>...</td>\n",
       "      <td>...</td>\n",
       "      <td>...</td>\n",
       "      <td>...</td>\n",
       "    </tr>\n",
       "    <tr>\n",
       "      <th>24736</th>\n",
       "      <td>60</td>\n",
       "      <td>127496.640</td>\n",
       "      <td>127493.569137</td>\n",
       "      <td>1</td>\n",
       "      <td>3.085788</td>\n",
       "      <td>2.086113</td>\n",
       "      <td>531.887770</td>\n",
       "      <td>-4606.593124</td>\n",
       "      <td>184.275620</td>\n",
       "      <td>352044</td>\n",
       "      <td>2.425850</td>\n",
       "      <td>10099062</td>\n",
       "      <td>-0.002197</td>\n",
       "      <td>True</td>\n",
       "    </tr>\n",
       "    <tr>\n",
       "      <th>24764</th>\n",
       "      <td>60</td>\n",
       "      <td>127729.816</td>\n",
       "      <td>127726.740540</td>\n",
       "      <td>1</td>\n",
       "      <td>3.081191</td>\n",
       "      <td>0.699453</td>\n",
       "      <td>1264.004925</td>\n",
       "      <td>-4609.441289</td>\n",
       "      <td>435.861120</td>\n",
       "      <td>352044</td>\n",
       "      <td>1.324280</td>\n",
       "      <td>10117688</td>\n",
       "      <td>-0.000242</td>\n",
       "      <td>True</td>\n",
       "    </tr>\n",
       "    <tr>\n",
       "      <th>24787</th>\n",
       "      <td>60</td>\n",
       "      <td>127838.856</td>\n",
       "      <td>127835.782470</td>\n",
       "      <td>1</td>\n",
       "      <td>3.083121</td>\n",
       "      <td>0.468668</td>\n",
       "      <td>1420.374895</td>\n",
       "      <td>-4616.791809</td>\n",
       "      <td>489.113892</td>\n",
       "      <td>352044</td>\n",
       "      <td>-0.793452</td>\n",
       "      <td>10126095</td>\n",
       "      <td>0.000601</td>\n",
       "      <td>True</td>\n",
       "    </tr>\n",
       "    <tr>\n",
       "      <th>24804</th>\n",
       "      <td>60</td>\n",
       "      <td>127882.664</td>\n",
       "      <td>127879.586522</td>\n",
       "      <td>1</td>\n",
       "      <td>3.079173</td>\n",
       "      <td>1.241305</td>\n",
       "      <td>1531.281396</td>\n",
       "      <td>-4615.984848</td>\n",
       "      <td>527.880600</td>\n",
       "      <td>352044</td>\n",
       "      <td>0.130943</td>\n",
       "      <td>10129530</td>\n",
       "      <td>-0.001296</td>\n",
       "      <td>True</td>\n",
       "    </tr>\n",
       "    <tr>\n",
       "      <th>24847</th>\n",
       "      <td>60</td>\n",
       "      <td>128123.496</td>\n",
       "      <td>128120.420692</td>\n",
       "      <td>1</td>\n",
       "      <td>3.081343</td>\n",
       "      <td>0.968895</td>\n",
       "      <td>1715.980883</td>\n",
       "      <td>-4598.151596</td>\n",
       "      <td>589.755447</td>\n",
       "      <td>352044</td>\n",
       "      <td>-0.411992</td>\n",
       "      <td>10148593</td>\n",
       "      <td>-0.003067</td>\n",
       "      <td>True</td>\n",
       "    </tr>\n",
       "  </tbody>\n",
       "</table>\n",
       "<p>1822 rows × 14 columns</p>\n",
       "</div>"
      ],
      "text/plain": [
       "       Channel        Time      CoincTime  NumPulses   OFdelay    OFChi2  \\\n",
       "19          60    1139.608    1136.529986          1  3.078637  2.984120   \n",
       "32          60    1192.016    1188.940325          1  3.080976  1.683988   \n",
       "35          60    1199.696    1196.621604          1  3.082255  0.893486   \n",
       "41          60    1262.528    1259.456059          1  3.084710  4.056065   \n",
       "74          60    1464.832    1461.759936          1  3.084587  0.485655   \n",
       "...        ...         ...            ...        ...       ...       ...   \n",
       "24736       60  127496.640  127493.569137          1  3.085788  2.086113   \n",
       "24764       60  127729.816  127726.740540          1  3.081191  0.699453   \n",
       "24787       60  127838.856  127835.782470          1  3.083121  0.468668   \n",
       "24804       60  127882.664  127879.586522          1  3.079173  1.241305   \n",
       "24847       60  128123.496  128120.420692          1  3.081343  0.968895   \n",
       "\n",
       "            Energy     Baseline  MaxToBaseline     Run    PCANorm  \\\n",
       "19     1043.190614 -4498.994934     360.822784  352044   1.191920   \n",
       "32      876.107679 -4501.017446     305.327291  352044  -0.954280   \n",
       "35      509.070367 -4495.206223     172.784195  352044   7.949973   \n",
       "41     1476.215868 -4488.077835     498.827652  352044  19.140515   \n",
       "74      574.841460 -4511.481130     198.672139  352044   2.637790   \n",
       "...            ...          ...            ...     ...        ...   \n",
       "24736   531.887770 -4606.593124     184.275620  352044   2.425850   \n",
       "24764  1264.004925 -4609.441289     435.861120  352044   1.324280   \n",
       "24787  1420.374895 -4616.791809     489.113892  352044  -0.793452   \n",
       "24804  1531.281396 -4615.984848     527.880600  352044   0.130943   \n",
       "24847  1715.980883 -4598.151596     589.755447  352044  -0.411992   \n",
       "\n",
       "       event_number  BaselineSlope  SingleTrigger  \n",
       "19            90694       0.000248           True  \n",
       "32            94879       0.000375           True  \n",
       "35            95525      -0.002434           True  \n",
       "41           100475      -0.006717           True  \n",
       "74           116781       0.000295           True  \n",
       "...             ...            ...            ...  \n",
       "24736      10099062      -0.002197           True  \n",
       "24764      10117688      -0.000242           True  \n",
       "24787      10126095       0.000601           True  \n",
       "24804      10129530      -0.001296           True  \n",
       "24847      10148593      -0.003067           True  \n",
       "\n",
       "[1822 rows x 14 columns]"
      ]
     },
     "execution_count": 18,
     "metadata": {},
     "output_type": "execute_result"
    }
   ],
   "source": [
    "ch60_events"
   ]
  },
  {
   "cell_type": "code",
   "execution_count": 19,
   "metadata": {},
   "outputs": [
    {
     "data": {
      "text/plain": [
       "[<matplotlib.lines.Line2D at 0x122920550>]"
      ]
     },
     "execution_count": 19,
     "metadata": {},
     "output_type": "execute_result"
    },
    {
     "data": {
      "image/png": "[encoded data removed]",
      "text/plain": [
       "<Figure size 640x480 with 1 Axes>"
      ]
     },
     "metadata": {},
     "output_type": "display_data"
    }
   ],
   "source": [
    "pick_pulse=32 # which pulse you want on the channel, between 0 & len(ch60_pulses)-1. I'm randomly choosing 32 here\n",
    "this_pulse=ch60_pulses[pick_pulse] #voltage values for the pulse timestream\n",
    "pulse_info=ch60_events.iloc[pick_pulse] #info for that pulse. need to access through iloc to correspond to same order as the pulse timestream\\\n",
    "plt.plot(np.linspace(-3,7,10000),this_pulse)"
   ]
  },
  {
   "cell_type": "code",
   "execution_count": 20,
   "metadata": {},
   "outputs": [
    {
     "data": {
      "text/html": [
       "<div>\n",
       "<style scoped>\n",
       "    .dataframe tbody tr th:only-of-type {\n",
       "        vertical-align: middle;\n",
       "    }\n",
       "\n",
       "    .dataframe tbody tr th {\n",
       "        vertical-align: top;\n",
       "    }\n",
       "\n",
       "    .dataframe thead th {\n",
       "        text-align: right;\n",
       "    }\n",
       "</style>\n",
       "<table border=\"1\" class=\"dataframe\">\n",
       "  <thead>\n",
       "    <tr style=\"text-align: right;\">\n",
       "      <th></th>\n",
       "      <th>Times</th>\n",
       "      <th>Energy</th>\n",
       "    </tr>\n",
       "  </thead>\n",
       "  <tbody>\n",
       "    <tr>\n",
       "      <th>0</th>\n",
       "      <td>-3.000</td>\n",
       "      <td>-1.093597</td>\n",
       "    </tr>\n",
       "    <tr>\n",
       "      <th>1</th>\n",
       "      <td>-2.999</td>\n",
       "      <td>-1.093674</td>\n",
       "    </tr>\n",
       "    <tr>\n",
       "      <th>2</th>\n",
       "      <td>-2.998</td>\n",
       "      <td>-1.093731</td>\n",
       "    </tr>\n",
       "    <tr>\n",
       "      <th>3</th>\n",
       "      <td>-2.997</td>\n",
       "      <td>-1.093655</td>\n",
       "    </tr>\n",
       "    <tr>\n",
       "      <th>4</th>\n",
       "      <td>-2.996</td>\n",
       "      <td>-1.093559</td>\n",
       "    </tr>\n",
       "    <tr>\n",
       "      <th>...</th>\n",
       "      <td>...</td>\n",
       "      <td>...</td>\n",
       "    </tr>\n",
       "    <tr>\n",
       "      <th>9995</th>\n",
       "      <td>6.996</td>\n",
       "      <td>-1.093273</td>\n",
       "    </tr>\n",
       "    <tr>\n",
       "      <th>9996</th>\n",
       "      <td>6.997</td>\n",
       "      <td>-1.093273</td>\n",
       "    </tr>\n",
       "    <tr>\n",
       "      <th>9997</th>\n",
       "      <td>6.998</td>\n",
       "      <td>-1.093311</td>\n",
       "    </tr>\n",
       "    <tr>\n",
       "      <th>9998</th>\n",
       "      <td>6.999</td>\n",
       "      <td>-1.093235</td>\n",
       "    </tr>\n",
       "    <tr>\n",
       "      <th>9999</th>\n",
       "      <td>7.000</td>\n",
       "      <td>-1.093121</td>\n",
       "    </tr>\n",
       "  </tbody>\n",
       "</table>\n",
       "<p>10000 rows × 2 columns</p>\n",
       "</div>"
      ],
      "text/plain": [
       "      Times    Energy\n",
       "0    -3.000 -1.093597\n",
       "1    -2.999 -1.093674\n",
       "2    -2.998 -1.093731\n",
       "3    -2.997 -1.093655\n",
       "4    -2.996 -1.093559\n",
       "...     ...       ...\n",
       "9995  6.996 -1.093273\n",
       "9996  6.997 -1.093273\n",
       "9997  6.998 -1.093311\n",
       "9998  6.999 -1.093235\n",
       "9999  7.000 -1.093121\n",
       "\n",
       "[10000 rows x 2 columns]"
      ]
     },
     "execution_count": 20,
     "metadata": {},
     "output_type": "execute_result"
    }
   ],
   "source": [
    "df = pd.DataFrame({\"Times\": np.linspace(-3,7,10000), \"Energy\": ADC2mV/4200*pulses_tower2p1[THIS_PULSE]})\n",
    "df\n"
   ]
  },
  {
   "cell_type": "code",
   "execution_count": 21,
   "metadata": {},
   "outputs": [],
   "source": [
    "df.to_csv('file1.csv')"
   ]
  },
  {
   "cell_type": "code",
   "execution_count": 22,
   "metadata": {},
   "outputs": [],
   "source": [
    "import numpy as np \n",
    "import pandas as pd \n",
    "\n",
    "import optax\n",
    "import matplotlib.pyplot as plt\n",
    "from typing import List\n",
    "import equinox as eqx\n",
    "import jax\n",
    "import jax.numpy as jnp\n",
    "import time\n",
    "\n",
    "import diffrax\n",
    "import equinox as eqx  # https://github.com/patrick-kidger/equinox\n",
    "import jax\n",
    "import jax.nn as jnn\n",
    "import jax.numpy as jnp\n",
    "import jax.random as jr\n",
    "import matplotlib.pyplot as plt\n",
    "import optax"
   ]
  },
  {
   "cell_type": "code",
   "execution_count": 23,
   "metadata": {},
   "outputs": [],
   "source": [
    "energies = jnp.array(df[\"Energy\"])\n",
    "time = jnp.array(df[\"Times\"])\n",
    "energies += energies[0]*-1"
   ]
  },
  {
   "cell_type": "code",
   "execution_count": 24,
   "metadata": {},
   "outputs": [
    {
     "data": {
      "text/plain": [
       "[<matplotlib.lines.Line2D at 0x15e07c490>]"
      ]
     },
     "execution_count": 24,
     "metadata": {},
     "output_type": "execute_result"
    },
    {
     "data": {
      "image/png": "[encoded data removed]",
      "text/plain": [
       "<Figure size 640x480 with 1 Axes>"
      ]
     },
     "metadata": {},
     "output_type": "display_data"
    }
   ],
   "source": [
    "plt.plot(time, energies)\n",
    "plt.plot(np.linspace(-3,7,10000),this_pulse*ADC2mV/4200)\n"
   ]
  },
  {
   "cell_type": "code",
   "execution_count": 25,
   "metadata": {},
   "outputs": [],
   "source": [
    "time = time[2900:]\n",
    "energies = energies[2900:]"
   ]
  },
  {
   "cell_type": "code",
   "execution_count": 26,
   "metadata": {},
   "outputs": [],
   "source": [
    "energies = energies/max(energies)"
   ]
  },
  {
   "cell_type": "code",
   "execution_count": 27,
   "metadata": {},
   "outputs": [
    {
     "data": {
      "text/plain": [
       "[<matplotlib.lines.Line2D at 0x15ed02290>]"
      ]
     },
     "execution_count": 27,
     "metadata": {},
     "output_type": "execute_result"
    },
    {
     "data": {
      "image/png": "[encoded data removed]",
      "text/plain": [
       "<Figure size 640x480 with 1 Axes>"
      ]
     },
     "metadata": {},
     "output_type": "display_data"
    }
   ],
   "source": [
    "plt.plot(time, energies)"
   ]
  },
  {
   "cell_type": "code",
   "execution_count": 28,
   "metadata": {},
   "outputs": [
    {
     "data": {
      "text/plain": [
       "7100"
      ]
     },
     "execution_count": 28,
     "metadata": {},
     "output_type": "execute_result"
    }
   ],
   "source": [
    "length = len(energies)\n",
    "z_s = np.linspace(0, 4, length)\n",
    "length"
   ]
  },
  {
   "cell_type": "code",
   "execution_count": 29,
   "metadata": {},
   "outputs": [
    {
     "data": {
      "text/plain": [
       "Array([-0.09970997, -0.09870987, -0.09770977, ...,  6.9979997 ,\n",
       "        6.999     ,  7.        ], dtype=float32)"
      ]
     },
     "execution_count": 29,
     "metadata": {},
     "output_type": "execute_result"
    }
   ],
   "source": [
    "time"
   ]
  },
  {
   "cell_type": "code",
   "execution_count": 30,
   "metadata": {},
   "outputs": [],
   "source": [
    "class LinearFunction(eqx.Module):\n",
    "    layers: list\n",
    "\n",
    "    def __init__(self, key): \n",
    "        key1, key2, key3, key4, key5, key6, key7 = jax.random.split(key, 7)\n",
    "        self.layers = [eqx.nn.Linear(3,6, key = key1, use_bias=True), \n",
    "                       eqx.nn.Linear(6,3, key = key1, use_bias=True)] \n",
    "    def __call__(self, t, y, *args):\n",
    "    \n",
    "        for layer in self.layers[:-1]:\n",
    "            y = jax.nn.tanh(layer(y))\n",
    "        y = self.layers[-1](y)\n",
    "\n",
    "        return y"
   ]
  },
  {
   "cell_type": "code",
   "execution_count": 31,
   "metadata": {},
   "outputs": [],
   "source": [
    "vars = [energies[0], 10, 0]"
   ]
  },
  {
   "cell_type": "code",
   "execution_count": 32,
   "metadata": {},
   "outputs": [
    {
     "data": {
      "text/plain": [
       "Array([ 0.        , -0.00143855, -0.00308261, ...,  0.00308261,\n",
       "        0.00390464,  0.00513769], dtype=float32)"
      ]
     },
     "execution_count": 32,
     "metadata": {},
     "output_type": "execute_result"
    }
   ],
   "source": [
    "energies"
   ]
  },
  {
   "cell_type": "code",
   "execution_count": 36,
   "metadata": {},
   "outputs": [],
   "source": [
    "def model_to_loss(model, y_s, z_s, t_s):\n",
    "    # Solve the differential equation\n",
    "    \n",
    "    #print(\"MODELTOLOSS\", y_s[0], z_s[0], t_s[len[t_s]])\n",
    "    solutions = diffrax.diffeqsolve(\n",
    "        diffrax.ODETerm(model),\n",
    "        diffrax.Tsit5(),\n",
    "        t0=float(t_s[0]),\n",
    "        t1=float(t_s[-1]),\n",
    "        dt0=0.001,\n",
    "        y0=jnp.array(vars, dtype=jnp.float64),  \n",
    "        stepsize_controller=diffrax.PIDController(rtol=1e-5, atol=1e-6),\n",
    "        saveat=diffrax.SaveAt(ts=jnp.sort(t_s)),\n",
    "    )\n",
    "    \n",
    "    y = solutions.ys[:length-1, 0]\n",
    "    a =  solutions.ys[:length-1, 1]\n",
    "    b =  solutions.ys[:length-1, 2]\n",
    "     \n",
    "   # print(y)\n",
    "\n",
    "    \n",
    "    # Use nan_to_num to handle NaNs\n",
    "    y = jnp.nan_to_num(y, nan=0.0)\n",
    "   \n",
    "   \n",
    "    # Calculate squared differences for the loss\n",
    "    y_diff = ((y - y_s[:length-1]) ** 2)\n",
    "    #z_diff = (z - z_s[:N_SAMPLES-1]) ** 2\n",
    "   # print(jnp.mean(y_diff) + jnp.mean(z_diff))\n",
    "   # return jnp.sqrt(jnp.mean(y_diff))\n",
    "\n",
    "   # Predicted outputs\n",
    "    y = solutions.ys[:length - 1, 0]\n",
    "    all_outputs = solutions.ys\n",
    "\n",
    "   \n",
    "    y_diff = (y - y_s[:length - 1]) ** 2\n",
    "    squared_loss = jnp.mean(y_diff)\n",
    "\n",
    "   \n",
    "    zero_input = jnp.zeros_like(all_outputs[0])\n",
    "    zero_output = model(0, zero_input)  \n",
    "    equilibrium_loss = jnp.mean(jnp.abs(zero_output) ** 2)\n",
    "\n",
    "   \n",
    "    final_output = all_outputs[-1]\n",
    "    end_loss = jnp.mean(jnp.abs(final_output))\n",
    "\n",
    "    reg_lambda = 1e-4\n",
    "\n",
    "    #l2_loss = reg_lambda * sum(jnp.sum(jnp.square(p)) for p in jax.tree_util.tree_leaves(model) if p.ndim > 0)\n",
    "    total_loss = (squared_loss + equilibrium_loss)\n",
    "    return total_loss"
   ]
  },
  {
   "cell_type": "code",
   "execution_count": 37,
   "metadata": {},
   "outputs": [
    {
     "data": {
      "text/plain": [
       "Array([-0.09970997, -0.09870987, -0.09770977, ...,  6.9979997 ,\n",
       "        6.999     ,  7.        ], dtype=float32)"
      ]
     },
     "execution_count": 37,
     "metadata": {},
     "output_type": "execute_result"
    }
   ],
   "source": [
    "time"
   ]
  },
  {
   "cell_type": "code",
   "execution_count": 38,
   "metadata": {},
   "outputs": [
    {
     "name": "stderr",
     "output_type": "stream",
     "text": [
      "/var/folders/wr/p4g_vhcn34g6101bsy9rmsd40000gn/T/ipykernel_59915/3197720569.py:11: UserWarning: Explicitly requested dtype <class 'jax.numpy.float64'> requested in array is not available, and will be truncated to dtype float32. To enable more dtypes, set the jax_enable_x64 configuration option or the JAX_ENABLE_X64 shell environment variable. See https://github.com/jax-ml/jax#current-gotchas for more.\n",
      "  y0=jnp.array(vars, dtype=jnp.float64),\n"
     ]
    },
    {
     "name": "stdout",
     "output_type": "stream",
     "text": [
      "Epoch 0, Loss 3.0820417404174805\n",
      "Epoch 100, Loss 0.04543349891901016\n",
      "Epoch 200, Loss 0.040448546409606934\n",
      "Epoch 300, Loss 0.03947741910815239\n",
      "Epoch 400, Loss 0.03846605867147446\n",
      "Epoch 500, Loss 0.03634804114699364\n",
      "Epoch 600, Loss 0.033903371542692184\n",
      "Epoch 700, Loss 0.03184464946389198\n",
      "Epoch 800, Loss 0.030108360573649406\n",
      "Epoch 900, Loss 0.028640640899538994\n",
      "Epoch 1000, Loss 0.027272125706076622\n",
      "Epoch 1100, Loss 0.02603094093501568\n",
      "Epoch 1200, Loss 0.02486591786146164\n",
      "Epoch 1300, Loss 0.02351624332368374\n",
      "Epoch 1400, Loss 0.021769089624285698\n",
      "Epoch 1500, Loss 0.02064584009349346\n",
      "Epoch 1600, Loss 0.0192414540797472\n",
      "Epoch 1700, Loss 0.017806749790906906\n",
      "Epoch 1800, Loss 0.016681719571352005\n",
      "Epoch 1900, Loss 0.015455463901162148\n",
      "Epoch 2000, Loss 0.014389305375516415\n",
      "Epoch 2100, Loss 0.012940540909767151\n",
      "Epoch 2200, Loss 0.011691645719110966\n",
      "Epoch 2300, Loss 0.010484741069376469\n",
      "Epoch 2400, Loss 0.009336094371974468\n",
      "Epoch 2500, Loss 0.008292864076793194\n",
      "Epoch 2600, Loss 0.007338123861700296\n",
      "Epoch 2700, Loss 0.00662953918799758\n",
      "Epoch 2800, Loss 0.005757496692240238\n",
      "Epoch 2900, Loss 0.005075703375041485\n",
      "Epoch 3000, Loss 0.004505196586251259\n",
      "Epoch 3100, Loss 0.004018911626189947\n",
      "Epoch 3200, Loss 0.0036105008330196142\n",
      "Epoch 3300, Loss 0.0032306222710758448\n",
      "Epoch 3400, Loss 0.0029542522970587015\n",
      "Epoch 3500, Loss 0.0028128083795309067\n",
      "Epoch 3600, Loss 0.0024204670917242765\n",
      "Epoch 3700, Loss 0.0023569855839014053\n",
      "Epoch 3800, Loss 0.0019997155759483576\n",
      "Epoch 3900, Loss 0.0018059649737551808\n",
      "Epoch 4000, Loss 0.0016552533488720655\n",
      "Epoch 4100, Loss 0.0014530131593346596\n",
      "Epoch 4200, Loss 0.0014076061779633164\n",
      "Epoch 4300, Loss 0.0014856582274660468\n",
      "Epoch 4400, Loss 0.0012238046620041132\n",
      "Epoch 4500, Loss 0.001055702450685203\n",
      "Epoch 4600, Loss 0.0009688587160781026\n",
      "Epoch 4700, Loss 0.000932591559831053\n",
      "Epoch 4800, Loss 0.0009849013295024633\n",
      "Epoch 4900, Loss 0.0008976352983154356\n",
      "Epoch 5000, Loss 0.0007817334844730794\n",
      "Epoch 5100, Loss 0.000781299255322665\n",
      "Epoch 5200, Loss 0.0006588444230146706\n",
      "Epoch 5300, Loss 0.000941988080739975\n",
      "Epoch 5400, Loss 0.0007146514835767448\n",
      "Epoch 5500, Loss 0.000630709866527468\n",
      "Epoch 5600, Loss 0.0006266233394853771\n",
      "Epoch 5700, Loss 0.0007924642995931208\n",
      "Epoch 5800, Loss 0.0005470762844197452\n",
      "Epoch 5900, Loss 0.000649783352855593\n",
      "Epoch 6000, Loss 0.0006531763938255608\n",
      "Epoch 6100, Loss 0.0007251771748997271\n",
      "Epoch 6200, Loss 0.0005578456912189722\n",
      "Epoch 6300, Loss 0.0006655362667515874\n",
      "Epoch 6400, Loss 0.0005596218979917467\n",
      "Epoch 6500, Loss 0.0005688071250915527\n",
      "Epoch 6600, Loss 0.000560749031137675\n",
      "Epoch 6700, Loss 0.0006254240870475769\n",
      "Epoch 6800, Loss 0.0006578734028153121\n",
      "Epoch 6900, Loss 0.000600601895712316\n",
      "Epoch 7000, Loss 0.0005039265961386263\n",
      "Epoch 7100, Loss 0.0005208514048717916\n",
      "Epoch 7200, Loss 0.0005073308129794896\n",
      "Epoch 7300, Loss 0.0006079189479351044\n",
      "Epoch 7400, Loss 0.000584562832955271\n",
      "Epoch 7500, Loss 0.0005057461676187813\n",
      "Epoch 7600, Loss 0.0005777889164164662\n",
      "Epoch 7700, Loss 0.0005231298855505884\n",
      "Epoch 7800, Loss 0.000537436455488205\n",
      "Epoch 7900, Loss 0.0005067078163847327\n",
      "Epoch 8000, Loss 0.0004851587291341275\n",
      "Epoch 8100, Loss 0.00048059012624435127\n",
      "Epoch 8200, Loss 0.0005830825539305806\n",
      "Epoch 8300, Loss 0.0006439186399802566\n",
      "Epoch 8400, Loss 0.0005002055549994111\n",
      "Epoch 8500, Loss 0.00047500617802143097\n",
      "Epoch 8600, Loss 0.0005721722263842821\n",
      "Epoch 8700, Loss 0.0005009822198189795\n",
      "Epoch 8800, Loss 0.0006729258457198739\n",
      "Epoch 8900, Loss 0.0005157940904609859\n",
      "Epoch 9000, Loss 0.0005289526889100671\n",
      "Epoch 9100, Loss 0.00046922353794798255\n",
      "Epoch 9200, Loss 0.0005546470056287944\n",
      "Epoch 9300, Loss 0.0005380870425142348\n",
      "Epoch 9400, Loss 0.0004425442311912775\n",
      "Epoch 9500, Loss 0.00044457055628299713\n",
      "Epoch 9600, Loss 0.0005234932759776711\n",
      "Epoch 9700, Loss 0.0005383623647503555\n",
      "Epoch 9800, Loss 0.0004348529619164765\n",
      "Epoch 9900, Loss 0.0005839642253704369\n",
      "Epoch 10000, Loss 0.00041796761797741055\n",
      "Epoch 10100, Loss 0.000534689286723733\n",
      "Epoch 10200, Loss 0.0005751119460910559\n",
      "Epoch 10300, Loss 0.0004297427658457309\n",
      "Epoch 10400, Loss 0.0004360521852504462\n",
      "Epoch 10500, Loss 0.0004989216686226428\n",
      "Epoch 10600, Loss 0.00047770081437192857\n",
      "Epoch 10700, Loss 0.0004172452609054744\n",
      "Epoch 10800, Loss 0.00048794900067150593\n",
      "Epoch 10900, Loss 0.0004384869826026261\n",
      "Epoch 11000, Loss 0.0005663587362505496\n",
      "Epoch 11100, Loss 0.0004960145452059805\n",
      "Epoch 11200, Loss 0.000491601531393826\n",
      "Epoch 11300, Loss 0.0005064161960035563\n",
      "Epoch 11400, Loss 0.0004467540711630136\n",
      "Epoch 11500, Loss 0.00047953083412721753\n",
      "Epoch 11600, Loss 0.0005559641867876053\n",
      "Epoch 11700, Loss 0.0004516866756603122\n",
      "Epoch 11800, Loss 0.0005722129717469215\n",
      "Epoch 11900, Loss 0.0004347847425378859\n",
      "Epoch 12000, Loss 0.00042835401836782694\n",
      "Epoch 12100, Loss 0.00046017966815270483\n",
      "Epoch 12200, Loss 0.0004614561621565372\n",
      "Epoch 12300, Loss 0.0005405573756434023\n",
      "Epoch 12400, Loss 0.000406862935051322\n",
      "Epoch 12500, Loss 0.0004561954119708389\n",
      "Epoch 12600, Loss 0.0005854949704371393\n",
      "Epoch 12700, Loss 0.000409384083468467\n",
      "Epoch 12800, Loss 0.0004980138037353754\n",
      "Epoch 12900, Loss 0.0005601737066172063\n",
      "Epoch 13000, Loss 0.0004073291493114084\n",
      "Epoch 13100, Loss 0.000459669012343511\n",
      "Epoch 13200, Loss 0.0005472845514304936\n",
      "Epoch 13300, Loss 0.00041175479418598115\n",
      "Epoch 13400, Loss 0.0004666167951654643\n"
     ]
    },
    {
     "ename": "KeyboardInterrupt",
     "evalue": "",
     "output_type": "error",
     "traceback": [
      "\u001b[0;31m---------------------------------------------------------------------------\u001b[0m",
      "\u001b[0;31mKeyboardInterrupt\u001b[0m                         Traceback (most recent call last)",
      "Cell \u001b[0;32mIn[38], line 26\u001b[0m\n\u001b[1;32m     24\u001b[0m opt_state \u001b[38;5;241m=\u001b[39m opt\u001b[38;5;241m.\u001b[39minit(eqx\u001b[38;5;241m.\u001b[39mfilter(MODEL, eqx\u001b[38;5;241m.\u001b[39mis_array))\n\u001b[1;32m     25\u001b[0m \u001b[38;5;28;01mfor\u001b[39;00m epoch \u001b[38;5;129;01min\u001b[39;00m \u001b[38;5;28mrange\u001b[39m(\u001b[38;5;241m60000\u001b[39m):\n\u001b[0;32m---> 26\u001b[0m     MODEL, opt_state, loss \u001b[38;5;241m=\u001b[39m \u001b[43mmake_step\u001b[49m\u001b[43m(\u001b[49m\u001b[43mMODEL\u001b[49m\u001b[43m,\u001b[49m\u001b[43m \u001b[49m\u001b[43mopt_state\u001b[49m\u001b[43m,\u001b[49m\u001b[43m \u001b[49m\u001b[43menergies\u001b[49m\u001b[43m,\u001b[49m\u001b[43m \u001b[49m\u001b[43mz_s\u001b[49m\u001b[43m,\u001b[49m\u001b[43m \u001b[49m\u001b[43mtime\u001b[49m\u001b[43m)\u001b[49m\n\u001b[1;32m     27\u001b[0m     loss_history\u001b[38;5;241m.\u001b[39mappend(loss)\n\u001b[1;32m     30\u001b[0m     \u001b[38;5;28;01mif\u001b[39;00m loss \u001b[38;5;241m<\u001b[39m best_loss:\n",
      "Cell \u001b[0;32mIn[38], line 17\u001b[0m, in \u001b[0;36mmake_step\u001b[0;34m(m, opt_s, y_s, z_s, t_s)\u001b[0m\n\u001b[1;32m     15\u001b[0m \u001b[38;5;28;01mdef\u001b[39;00m \u001b[38;5;21mmake_step\u001b[39m(m, opt_s, y_s, z_s, t_s):\n\u001b[1;32m     16\u001b[0m     loss, grad \u001b[38;5;241m=\u001b[39m model_to_loss_and_grad(eqx\u001b[38;5;241m.\u001b[39mfilter(m, eqx\u001b[38;5;241m.\u001b[39mis_inexact_array), y_s, z_s, t_s)\n\u001b[0;32m---> 17\u001b[0m     updates, opt_s \u001b[38;5;241m=\u001b[39m \u001b[43mopt\u001b[49m\u001b[38;5;241;43m.\u001b[39;49m\u001b[43mupdate\u001b[49m\u001b[43m(\u001b[49m\u001b[43mgrad\u001b[49m\u001b[43m,\u001b[49m\u001b[43m \u001b[49m\u001b[43mopt_s\u001b[49m\u001b[43m,\u001b[49m\u001b[43m \u001b[49m\u001b[43mm\u001b[49m\u001b[43m)\u001b[49m\n\u001b[1;32m     18\u001b[0m     m \u001b[38;5;241m=\u001b[39m eqx\u001b[38;5;241m.\u001b[39mapply_updates(m, updates)\n\u001b[1;32m     19\u001b[0m     \u001b[38;5;28;01mreturn\u001b[39;00m m, opt_s, loss\n",
      "File \u001b[0;32m/opt/anaconda3/envs/CUORE/lib/python3.11/site-packages/optax/transforms/_combining.py:73\u001b[0m, in \u001b[0;36mchain.<locals>.update_fn\u001b[0;34m(updates, state, params, **extra_args)\u001b[0m\n\u001b[1;32m     71\u001b[0m new_state \u001b[38;5;241m=\u001b[39m []\n\u001b[1;32m     72\u001b[0m \u001b[38;5;28;01mfor\u001b[39;00m s, fn \u001b[38;5;129;01min\u001b[39;00m \u001b[38;5;28mzip\u001b[39m(state, update_fns):\n\u001b[0;32m---> 73\u001b[0m   updates, new_s \u001b[38;5;241m=\u001b[39m \u001b[43mfn\u001b[49m\u001b[43m(\u001b[49m\u001b[43mupdates\u001b[49m\u001b[43m,\u001b[49m\u001b[43m \u001b[49m\u001b[43ms\u001b[49m\u001b[43m,\u001b[49m\u001b[43m \u001b[49m\u001b[43mparams\u001b[49m\u001b[43m,\u001b[49m\u001b[43m \u001b[49m\u001b[38;5;241;43m*\u001b[39;49m\u001b[38;5;241;43m*\u001b[39;49m\u001b[43mextra_args\u001b[49m\u001b[43m)\u001b[49m\n\u001b[1;32m     74\u001b[0m   new_state\u001b[38;5;241m.\u001b[39mappend(new_s)\n\u001b[1;32m     75\u001b[0m \u001b[38;5;28;01mreturn\u001b[39;00m updates, \u001b[38;5;28mtuple\u001b[39m(new_state)\n",
      "File \u001b[0;32m/opt/anaconda3/envs/CUORE/lib/python3.11/site-packages/optax/_src/base.py:330\u001b[0m, in \u001b[0;36mwith_extra_args_support.<locals>.update\u001b[0;34m(***failed resolving arguments***)\u001b[0m\n\u001b[1;32m    328\u001b[0m \u001b[38;5;28;01mdef\u001b[39;00m \u001b[38;5;21mupdate\u001b[39m(updates, state, params\u001b[38;5;241m=\u001b[39m\u001b[38;5;28;01mNone\u001b[39;00m, \u001b[38;5;241m*\u001b[39m\u001b[38;5;241m*\u001b[39mextra_args):\n\u001b[1;32m    329\u001b[0m   \u001b[38;5;28;01mdel\u001b[39;00m extra_args\n\u001b[0;32m--> 330\u001b[0m   \u001b[38;5;28;01mreturn\u001b[39;00m \u001b[43mtx\u001b[49m\u001b[38;5;241;43m.\u001b[39;49m\u001b[43mupdate\u001b[49m\u001b[43m(\u001b[49m\u001b[43mupdates\u001b[49m\u001b[43m,\u001b[49m\u001b[43m \u001b[49m\u001b[43mstate\u001b[49m\u001b[43m,\u001b[49m\u001b[43m \u001b[49m\u001b[43mparams\u001b[49m\u001b[43m)\u001b[49m\n",
      "File \u001b[0;32m/opt/anaconda3/envs/CUORE/lib/python3.11/site-packages/optax/_src/transform.py:116\u001b[0m, in \u001b[0;36mscale_by_rms.<locals>.update_fn\u001b[0;34m(***failed resolving arguments***)\u001b[0m\n\u001b[1;32m    114\u001b[0m \u001b[38;5;28;01mdel\u001b[39;00m params\n\u001b[1;32m    115\u001b[0m nu \u001b[38;5;241m=\u001b[39m otu\u001b[38;5;241m.\u001b[39mtree_update_moment_per_elem_norm(updates, state\u001b[38;5;241m.\u001b[39mnu, decay, \u001b[38;5;241m2\u001b[39m)\n\u001b[0;32m--> 116\u001b[0m updates \u001b[38;5;241m=\u001b[39m \u001b[43mjtu\u001b[49m\u001b[38;5;241;43m.\u001b[39;49m\u001b[43mtree_map\u001b[49m\u001b[43m(\u001b[49m\n\u001b[1;32m    117\u001b[0m \u001b[43m    \u001b[49m\u001b[38;5;28;43;01mlambda\u001b[39;49;00m\u001b[43m \u001b[49m\u001b[43mg\u001b[49m\u001b[43m,\u001b[49m\u001b[43m \u001b[49m\u001b[43mn\u001b[49m\u001b[43m:\u001b[49m\u001b[43m \u001b[49m\u001b[43mg\u001b[49m\u001b[43m \u001b[49m\u001b[38;5;241;43m*\u001b[39;49m\u001b[43m \u001b[49m\u001b[43mjax\u001b[49m\u001b[38;5;241;43m.\u001b[39;49m\u001b[43mlax\u001b[49m\u001b[38;5;241;43m.\u001b[39;49m\u001b[43mrsqrt\u001b[49m\u001b[43m(\u001b[49m\u001b[43mn\u001b[49m\u001b[43m \u001b[49m\u001b[38;5;241;43m+\u001b[39;49m\u001b[43m \u001b[49m\u001b[43meps\u001b[49m\u001b[43m)\u001b[49m\u001b[43m,\u001b[49m\u001b[43m \u001b[49m\u001b[43mupdates\u001b[49m\u001b[43m,\u001b[49m\u001b[43m \u001b[49m\u001b[43mnu\u001b[49m\u001b[43m)\u001b[49m\n\u001b[1;32m    118\u001b[0m \u001b[38;5;28;01mreturn\u001b[39;00m updates, ScaleByRmsState(nu\u001b[38;5;241m=\u001b[39mnu)\n",
      "File \u001b[0;32m/opt/anaconda3/envs/CUORE/lib/python3.11/site-packages/jax/_src/tree_util.py:344\u001b[0m, in \u001b[0;36mtree_map\u001b[0;34m(f, tree, is_leaf, *rest)\u001b[0m\n\u001b[1;32m    342\u001b[0m leaves, treedef \u001b[38;5;241m=\u001b[39m tree_flatten(tree, is_leaf)\n\u001b[1;32m    343\u001b[0m all_leaves \u001b[38;5;241m=\u001b[39m [leaves] \u001b[38;5;241m+\u001b[39m [treedef\u001b[38;5;241m.\u001b[39mflatten_up_to(r) \u001b[38;5;28;01mfor\u001b[39;00m r \u001b[38;5;129;01min\u001b[39;00m rest]\n\u001b[0;32m--> 344\u001b[0m \u001b[38;5;28;01mreturn\u001b[39;00m \u001b[43mtreedef\u001b[49m\u001b[38;5;241;43m.\u001b[39;49m\u001b[43munflatten\u001b[49m\u001b[43m(\u001b[49m\u001b[43mf\u001b[49m\u001b[43m(\u001b[49m\u001b[38;5;241;43m*\u001b[39;49m\u001b[43mxs\u001b[49m\u001b[43m)\u001b[49m\u001b[43m \u001b[49m\u001b[38;5;28;43;01mfor\u001b[39;49;00m\u001b[43m \u001b[49m\u001b[43mxs\u001b[49m\u001b[43m \u001b[49m\u001b[38;5;129;43;01min\u001b[39;49;00m\u001b[43m \u001b[49m\u001b[38;5;28;43mzip\u001b[39;49m\u001b[43m(\u001b[49m\u001b[38;5;241;43m*\u001b[39;49m\u001b[43mall_leaves\u001b[49m\u001b[43m)\u001b[49m\u001b[43m)\u001b[49m\n",
      "File \u001b[0;32m/opt/anaconda3/envs/CUORE/lib/python3.11/site-packages/jax/_src/tree_util.py:344\u001b[0m, in \u001b[0;36m<genexpr>\u001b[0;34m(.0)\u001b[0m\n\u001b[1;32m    342\u001b[0m leaves, treedef \u001b[38;5;241m=\u001b[39m tree_flatten(tree, is_leaf)\n\u001b[1;32m    343\u001b[0m all_leaves \u001b[38;5;241m=\u001b[39m [leaves] \u001b[38;5;241m+\u001b[39m [treedef\u001b[38;5;241m.\u001b[39mflatten_up_to(r) \u001b[38;5;28;01mfor\u001b[39;00m r \u001b[38;5;129;01min\u001b[39;00m rest]\n\u001b[0;32m--> 344\u001b[0m \u001b[38;5;28;01mreturn\u001b[39;00m treedef\u001b[38;5;241m.\u001b[39munflatten(\u001b[43mf\u001b[49m\u001b[43m(\u001b[49m\u001b[38;5;241;43m*\u001b[39;49m\u001b[43mxs\u001b[49m\u001b[43m)\u001b[49m \u001b[38;5;28;01mfor\u001b[39;00m xs \u001b[38;5;129;01min\u001b[39;00m \u001b[38;5;28mzip\u001b[39m(\u001b[38;5;241m*\u001b[39mall_leaves))\n",
      "File \u001b[0;32m/opt/anaconda3/envs/CUORE/lib/python3.11/site-packages/optax/_src/transform.py:117\u001b[0m, in \u001b[0;36mscale_by_rms.<locals>.update_fn.<locals>.<lambda>\u001b[0;34m(g, n)\u001b[0m\n\u001b[1;32m    114\u001b[0m \u001b[38;5;28;01mdel\u001b[39;00m params\n\u001b[1;32m    115\u001b[0m nu \u001b[38;5;241m=\u001b[39m otu\u001b[38;5;241m.\u001b[39mtree_update_moment_per_elem_norm(updates, state\u001b[38;5;241m.\u001b[39mnu, decay, \u001b[38;5;241m2\u001b[39m)\n\u001b[1;32m    116\u001b[0m updates \u001b[38;5;241m=\u001b[39m jtu\u001b[38;5;241m.\u001b[39mtree_map(\n\u001b[0;32m--> 117\u001b[0m     \u001b[38;5;28;01mlambda\u001b[39;00m g, n: \u001b[43mg\u001b[49m\u001b[43m \u001b[49m\u001b[38;5;241;43m*\u001b[39;49m\u001b[43m \u001b[49m\u001b[43mjax\u001b[49m\u001b[38;5;241;43m.\u001b[39;49m\u001b[43mlax\u001b[49m\u001b[38;5;241;43m.\u001b[39;49m\u001b[43mrsqrt\u001b[49m\u001b[43m(\u001b[49m\u001b[43mn\u001b[49m\u001b[43m \u001b[49m\u001b[38;5;241;43m+\u001b[39;49m\u001b[43m \u001b[49m\u001b[43meps\u001b[49m\u001b[43m)\u001b[49m, updates, nu)\n\u001b[1;32m    118\u001b[0m \u001b[38;5;28;01mreturn\u001b[39;00m updates, ScaleByRmsState(nu\u001b[38;5;241m=\u001b[39mnu)\n",
      "File \u001b[0;32m/opt/anaconda3/envs/CUORE/lib/python3.11/site-packages/jax/_src/numpy/array_methods.py:573\u001b[0m, in \u001b[0;36m_defer_to_unrecognized_arg.<locals>.deferring_binary_op\u001b[0;34m(self, other)\u001b[0m\n\u001b[1;32m    571\u001b[0m args \u001b[38;5;241m=\u001b[39m (other, \u001b[38;5;28mself\u001b[39m) \u001b[38;5;28;01mif\u001b[39;00m swap \u001b[38;5;28;01melse\u001b[39;00m (\u001b[38;5;28mself\u001b[39m, other)\n\u001b[1;32m    572\u001b[0m \u001b[38;5;28;01mif\u001b[39;00m \u001b[38;5;28misinstance\u001b[39m(other, _accepted_binop_types):\n\u001b[0;32m--> 573\u001b[0m   \u001b[38;5;28;01mreturn\u001b[39;00m \u001b[43mbinary_op\u001b[49m\u001b[43m(\u001b[49m\u001b[38;5;241;43m*\u001b[39;49m\u001b[43margs\u001b[49m\u001b[43m)\u001b[49m\n\u001b[1;32m    574\u001b[0m \u001b[38;5;66;03m# Note: don't use isinstance here, because we don't want to raise for\u001b[39;00m\n\u001b[1;32m    575\u001b[0m \u001b[38;5;66;03m# subclasses, e.g. NamedTuple objects that may override operators.\u001b[39;00m\n\u001b[1;32m    576\u001b[0m \u001b[38;5;28;01mif\u001b[39;00m \u001b[38;5;28mtype\u001b[39m(other) \u001b[38;5;129;01min\u001b[39;00m _rejected_binop_types:\n",
      "File \u001b[0;32m/opt/anaconda3/envs/CUORE/lib/python3.11/site-packages/jax/_src/numpy/ufunc_api.py:177\u001b[0m, in \u001b[0;36mufunc.__call__\u001b[0;34m(self, out, where, *args)\u001b[0m\n\u001b[1;32m    175\u001b[0m   \u001b[38;5;28;01mraise\u001b[39;00m \u001b[38;5;167;01mNotImplementedError\u001b[39;00m(\u001b[38;5;124mf\u001b[39m\u001b[38;5;124m\"\u001b[39m\u001b[38;5;124mwhere argument of \u001b[39m\u001b[38;5;132;01m{\u001b[39;00m\u001b[38;5;28mself\u001b[39m\u001b[38;5;132;01m}\u001b[39;00m\u001b[38;5;124m\"\u001b[39m)\n\u001b[1;32m    176\u001b[0m call \u001b[38;5;241m=\u001b[39m \u001b[38;5;28mself\u001b[39m\u001b[38;5;241m.\u001b[39m__static_props[\u001b[38;5;124m'\u001b[39m\u001b[38;5;124mcall\u001b[39m\u001b[38;5;124m'\u001b[39m] \u001b[38;5;129;01mor\u001b[39;00m \u001b[38;5;28mself\u001b[39m\u001b[38;5;241m.\u001b[39m_call_vectorized\n\u001b[0;32m--> 177\u001b[0m \u001b[38;5;28;01mreturn\u001b[39;00m \u001b[43mcall\u001b[49m\u001b[43m(\u001b[49m\u001b[38;5;241;43m*\u001b[39;49m\u001b[43margs\u001b[49m\u001b[43m)\u001b[49m\n",
      "\u001b[0;31mKeyboardInterrupt\u001b[0m: "
     ]
    }
   ],
   "source": [
    "model_to_loss_and_grad = eqx.filter_value_and_grad(model_to_loss)\n",
    "opt = optax.rmsprop(learning_rate=0.003)\n",
    "key = jax.random.PRNGKey(41)\n",
    "key, subkey = jax.random.split(key, 2)\n",
    "\"\"\"def custom_schedule(step):\n",
    "    # Decrease learning rate as the step increases\n",
    "    return jnp.maximum(0.001, 0.009 * (0.90 ** (step / 10000000)))  # Cap at 0.001\n",
    "\n",
    "opt = optax.chain(\n",
    "    optax.scale_by_adam(),\n",
    "    optax.scale_by_schedule(custom_schedule)\n",
    ")\"\"\"\n",
    "\n",
    "\n",
    "def make_step(m, opt_s, y_s, z_s, t_s):\n",
    "    loss, grad = model_to_loss_and_grad(eqx.filter(m, eqx.is_inexact_array), y_s, z_s, t_s)\n",
    "    updates, opt_s = opt.update(grad, opt_s, m)\n",
    "    m = eqx.apply_updates(m, updates)\n",
    "    return m, opt_s, loss\n",
    "\n",
    "loss_history = []\n",
    "MODEL = LinearFunction(subkey)\n",
    "best_loss = float('inf')\n",
    "opt_state = opt.init(eqx.filter(MODEL, eqx.is_array))\n",
    "for epoch in range(60000):\n",
    "    MODEL, opt_state, loss = make_step(MODEL, opt_state, energies, z_s, time)\n",
    "    loss_history.append(loss)\n",
    "\n",
    "    \n",
    "    if loss < best_loss:\n",
    "        best_loss = loss\n",
    "        best_weights = eqx.tree_serialise_leaves(\"best_model.eqx\", MODEL)\n",
    "    \n",
    "    if epoch % 100 == 0:  # Log every 100 epochs\n",
    "        print(f\"Epoch {epoch}, Loss {loss}\")\n"
   ]
  },
  {
   "cell_type": "code",
   "execution_count": 39,
   "metadata": {},
   "outputs": [
    {
     "data": {
      "text/plain": [
       "Array(0.00040041, dtype=float32)"
      ]
     },
     "execution_count": 39,
     "metadata": {},
     "output_type": "execute_result"
    }
   ],
   "source": [
    "min(loss_history)"
   ]
  },
  {
   "cell_type": "markdown",
   "metadata": {},
   "source": []
  },
  {
   "cell_type": "code",
   "execution_count": 40,
   "metadata": {},
   "outputs": [
    {
     "data": {
      "text/plain": [
       "Array([-0.09970997, -0.09870987, -0.09770977, ...,  6.9979997 ,\n",
       "        6.999     ,  7.        ], dtype=float32)"
      ]
     },
     "execution_count": 40,
     "metadata": {},
     "output_type": "execute_result"
    }
   ],
   "source": [
    "time"
   ]
  },
  {
   "cell_type": "code",
   "execution_count": 41,
   "metadata": {},
   "outputs": [
    {
     "data": {
      "image/png": "[encoded data removed]",
      "text/plain": [
       "<Figure size 640x480 with 1 Axes>"
      ]
     },
     "metadata": {},
     "output_type": "display_data"
    }
   ],
   "source": [
    "plt.plot(loss_history)\n",
    "plt.yscale('log')"
   ]
  },
  {
   "cell_type": "code",
   "execution_count": 42,
   "metadata": {},
   "outputs": [
    {
     "name": "stderr",
     "output_type": "stream",
     "text": [
      "/var/folders/wr/p4g_vhcn34g6101bsy9rmsd40000gn/T/ipykernel_59915/2625204534.py:7: UserWarning: Explicitly requested dtype <class 'jax.numpy.float64'> requested in array is not available, and will be truncated to dtype float32. To enable more dtypes, set the jax_enable_x64 configuration option or the JAX_ENABLE_X64 shell environment variable. See https://github.com/jax-ml/jax#current-gotchas for more.\n",
      "  y0=jnp.array([0, 10, 0], dtype=jnp.float64),\n"
     ]
    },
    {
     "data": {
      "text/plain": [
       "Array([ 0.        ,  0.00654598,  0.01308255, ..., -0.00357466,\n",
       "       -0.003583  , -0.00359133], dtype=float32)"
      ]
     },
     "execution_count": 42,
     "metadata": {},
     "output_type": "execute_result"
    }
   ],
   "source": [
    "solutions = diffrax.diffeqsolve(\n",
    "        diffrax.ODETerm(MODEL),\n",
    "        diffrax.Tsit5(),\n",
    "        t0=float(time[0]),\n",
    "        t1=float(time[-1]),\n",
    "        dt0=0.01,\n",
    "        y0=jnp.array([0, 10, 0], dtype=jnp.float64),  \n",
    "        stepsize_controller=diffrax.PIDController(rtol=1e-5, atol=1e-6),\n",
    "        saveat=diffrax.SaveAt(ts=jnp.sort(time)),\n",
    "    )\n",
    "solutions.ys[:, 0]\n"
   ]
  },
  {
   "cell_type": "code",
   "execution_count": 43,
   "metadata": {},
   "outputs": [
    {
     "data": {
      "text/plain": [
       "Array(0.00040041, dtype=float32)"
      ]
     },
     "execution_count": 43,
     "metadata": {},
     "output_type": "execute_result"
    }
   ],
   "source": [
    "min(loss_history)"
   ]
  },
  {
   "cell_type": "code",
   "execution_count": 44,
   "metadata": {},
   "outputs": [
    {
     "data": {
      "text/plain": [
       "<matplotlib.legend.Legend at 0x3164992d0>"
      ]
     },
     "execution_count": 44,
     "metadata": {},
     "output_type": "execute_result"
    },
    {
     "data": {
      "image/png": "[encoded data removed]",
      "text/plain": [
       "<Figure size 640x480 with 1 Axes>"
      ]
     },
     "metadata": {},
     "output_type": "display_data"
    }
   ],
   "source": [
    "plt.plot(time, energies, label = \"pulse\")\n",
    "\n",
    "plt.plot(time, solutions.ys[:, 0], label = \"NeuralODE\")\n",
    "#plt.plot(time, energies-solutions.ys[:, 0])\n",
    "\n",
    "plt.legend()\n"
   ]
  },
  {
   "cell_type": "code",
   "execution_count": 45,
   "metadata": {},
   "outputs": [
    {
     "data": {
      "text/plain": [
       "<matplotlib.legend.Legend at 0x31689b810>"
      ]
     },
     "execution_count": 45,
     "metadata": {},
     "output_type": "execute_result"
    },
    {
     "data": {
      "image/png": "[encoded data removed]",
      "text/plain": [
       "<Figure size 640x480 with 1 Axes>"
      ]
     },
     "metadata": {},
     "output_type": "display_data"
    }
   ],
   "source": [
    "plt.plot(time, energies, label = \"pulse\")\n",
    "plt.plot(time, solutions.ys[:, 0], label = \"NeuralODE\")\n",
    "#plt.plot(time, energies-solutions.ys[:, 0])\n",
    "plt.xlim(0.05, 0.11)\n",
    "plt.legend()"
   ]
  },
  {
   "cell_type": "code",
   "execution_count": 46,
   "metadata": {},
   "outputs": [
    {
     "data": {
      "text/plain": [
       "<matplotlib.legend.Legend at 0x3168fd810>"
      ]
     },
     "execution_count": 46,
     "metadata": {},
     "output_type": "execute_result"
    },
    {
     "data": {
      "image/png": "[encoded data removed]",
      "text/plain": [
       "<Figure size 640x480 with 1 Axes>"
      ]
     },
     "metadata": {},
     "output_type": "display_data"
    }
   ],
   "source": [
    "plt.plot(time, solutions.ys[:, 0], label = \"0\")\n",
    "plt.plot(time, solutions.ys[:, 1], label = \"1\")\n",
    "plt.plot(time, solutions.ys[:, 2], label = \"2\")\n",
    "\n",
    "\n",
    "plt.legend()"
   ]
  },
  {
   "cell_type": "code",
   "execution_count": null,
   "metadata": {},
   "outputs": [
    {
     "data": {
      "text/plain": [
       "(-0.1, 10.0)"
      ]
     },
     "execution_count": 184,
     "metadata": {},
     "output_type": "execute_result"
    },
    {
     "data": {
      "image/png": "[encoded data removed]",
      "text/plain": [
       "<Figure size 640x480 with 1 Axes>"
      ]
     },
     "metadata": {},
     "output_type": "display_data"
    }
   ],
   "source": [
    "plt.plot(time, energies)\n",
    "plt.xlim(-0.1, 10)"
   ]
  },
  {
   "cell_type": "code",
   "execution_count": null,
   "metadata": {},
   "outputs": [
    {
     "data": {
      "text/plain": [
       "(4, 5)"
      ]
     },
     "execution_count": 39,
     "metadata": {},
     "output_type": "execute_result"
    }
   ],
   "source": [
    "x = np.random.rand(4, 5)\n",
    "x.shape"
   ]
  }
 ],
 "metadata": {
  "kernelspec": {
   "display_name": "CUORE",
   "language": "python",
   "name": "python3"
  },
  "language_info": {
   "codemirror_mode": {
    "name": "ipython",
    "version": 3
   },
   "file_extension": ".py",
   "mimetype": "text/x-python",
   "name": "python",
   "nbconvert_exporter": "python",
   "pygments_lexer": "ipython3",
   "version": "3.11.10"
  }
 },
 "nbformat": 4,
 "nbformat_minor": 2
}
